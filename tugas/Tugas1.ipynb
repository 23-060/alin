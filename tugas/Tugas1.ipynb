{
 "cells": [
  {
   "cell_type": "code",
   "execution_count": null,
   "metadata": {},
   "outputs": [],
   "source": []
  },
  {
   "cell_type": "markdown",
   "metadata": {},
   "source": [
    "# Tugas 1\n",
    "\n",
    "Membuat Video Tutorial Membuat Web Statis Menggunakan Jupyter-book\n",
    "\n",
    "## Hasil\n",
    "\n",
    "[Ini adalah Hasil Video yang telah saya buat] (https://www.youtube.com/watch?v=iWBcHd-rWlo)"
   ]
  }
 ],
 "metadata": {
  "language_info": {
   "name": "python"
  }
 },
 "nbformat": 4,
 "nbformat_minor": 2
}

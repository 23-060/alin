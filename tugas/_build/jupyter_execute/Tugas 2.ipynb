{
 "cells": [
  {
   "cell_type": "markdown",
   "metadata": {},
   "source": [
    "# Aljabar Matrix\n",
    "Aljabar matriks adalah cabang aljabar yang mempelajari matriks, yaitu susunan bilangan-bilangan (elemen) dalam baris dan kolom. Matriks dapat digunakan untuk merepresentasikan sistem persamaan linear, transformasi linier, dan berbagai konsep matematika lainnya.\n",
    "\n",
    "Berikut adalah contoh dari Aljabar Matriks :"
   ]
  },
  {
   "cell_type": "code",
   "execution_count": 1,
   "metadata": {},
   "outputs": [
    {
     "name": "stdout",
     "output_type": "stream",
     "text": [
      "[[9 2 5]\n",
      " [5 4 8]\n",
      " [2 2 6]]\n"
     ]
    }
   ],
   "source": [
    "import numpy as np\n",
    "\n",
    "A = np.random.randint(10,size=(3,3))\n",
    "print(A)"
   ]
  },
  {
   "cell_type": "markdown",
   "metadata": {},
   "source": [
    "## Menghitung matrix menggunakan Program"
   ]
  },
  {
   "cell_type": "markdown",
   "metadata": {},
   "source": [
    "### Cara menentukan Matrix Secara Manual Menggunakan Program python\n",
    "\n",
    "1. kita memanggil library numpy menggunakan syntax\n",
    "[import numpy]\n",
    "import gunanya untuk kita memanggil file lain dalam satu modul,\n",
    "numpy adalah sebuah library yang bisa di panggil \n",
    "\n",
    "2. kita membuat matrix secara manual menggunakan syntax\n",
    "[ A = numpy.array([[3,0,4],[-1,-2,-1]]) ]\n",
    "kita membuat variable \"A\", dengan isi numpy.array\n",
    "numpy adalah library yang sudah kita panggil tadi, dan array kegunaannya untuk memudahkan operasi komputasi tipe data numerik seperti penjumlahan, pengurangan, perkalian, pangkat, dan operasi lainnya yang bisa diterapkan pada vektor atau matrix\n",
    "dan kita memberi angka untuk kolom dan baris pada matrix"
   ]
  },
  {
   "cell_type": "code",
   "execution_count": 2,
   "metadata": {},
   "outputs": [
    {
     "name": "stdout",
     "output_type": "stream",
     "text": [
      "[[ 3  0  4]\n",
      " [-1 -2 -1]]\n"
     ]
    }
   ],
   "source": [
    "import numpy\n",
    "\n",
    "A = numpy.array([[3,0,4],[-1,-2,-1]])\n",
    "print(A)"
   ]
  },
  {
   "cell_type": "markdown",
   "metadata": {},
   "source": [
    "### Cara Menentukan Matrix Secara Random menggunakan progam python\n",
    "1. kita memanggil numpy dan random menggunakan syntax \n",
    "[import numpy] & [import Random]\n",
    "import gunanya untuk kita memanggil file lain dalam satu modul,\n",
    "numpy dan random adalah sebuah library yang bisa di panggil \n",
    "\n",
    "2. kita membuat matrix menggunakan syntax\n",
    "[ \"A = numpy.random.randint(10, size=(3,3))\" ]\n",
    "Kita membuat Variabel \"A\", dengan isi \"numpy.random.ranint(10, size=(3,0)),\n",
    "disini kegunaan dari randint sendiri adalah untuk mengacak angka, dan 10 adalah batas dari acak angka randint, \n",
    "size=(3,3) adalah ukuran kolom baris sebuah matrix"
   ]
  },
  {
   "cell_type": "code",
   "execution_count": 3,
   "metadata": {},
   "outputs": [
    {
     "name": "stdout",
     "output_type": "stream",
     "text": [
      "[[9 6 1]\n",
      " [9 3 5]\n",
      " [5 5 3]]\n"
     ]
    }
   ],
   "source": [
    "import numpy as np\n",
    "import random\n",
    "\n",
    "A = np.random.randint(10,size=(3,3))\n",
    "print(A)"
   ]
  },
  {
   "cell_type": "markdown",
   "metadata": {},
   "source": [
    "### Cara Mengubah matrix menjadi matrix transpose menggunakan program python\n",
    "1. Menentukan Matrix mana yang ingin di transpose, dan beri syntax\n",
    "[A.transpose()]\n",
    "Syntax \"transpose()\" digunakan untuk menghasilkan transpos dari matriks A. Transpos suatu matriks adalah operasi yang mengubah baris matriks menjadi kolom dan sebaliknya. Dengan kata lain, elemen pada baris ke-i dan kolom ke-j dari matriks asli akan menjadi elemen pada baris ke-j dan kolom ke-i dalam matriks transpos."
   ]
  },
  {
   "cell_type": "code",
   "execution_count": 4,
   "metadata": {},
   "outputs": [
    {
     "name": "stdout",
     "output_type": "stream",
     "text": [
      "Matrix A\n",
      "[[9 2 9]\n",
      " [0 1 0]\n",
      " [1 6 1]]\n",
      "Matrix A yang sudah di transpose\n",
      "[[9 0 1]\n",
      " [2 1 6]\n",
      " [9 0 1]]\n"
     ]
    }
   ],
   "source": [
    "import numpy as np\n",
    "import random\n",
    "\n",
    "A = np.random.randint(10,size=(3,3))\n",
    "A_T = A.transpose()\n",
    "print(\"Matrix A\")\n",
    "print(A)\n",
    "print(\"Matrix A yang sudah di transpose\")\n",
    "print(A_T)"
   ]
  },
  {
   "cell_type": "markdown",
   "metadata": {},
   "source": [
    "### Cara Mengetahui Shape Matrix Menggunakan Program Python \n",
    "1. Menentukan variable matrix mana yang ingin di ketahui shape nya, dan tambahkan syntax\n",
    "[A.Shape]\n",
    "Shape digunakan untuk mendapatkan tuple yang menyatakan dimensi dari array/matriks A. Dalam konteks NumPy atau library lain yang mendukung atribut shape, A.shape memberikan informasi tentang jumlah baris dan kolom "
   ]
  },
  {
   "cell_type": "code",
   "execution_count": 5,
   "metadata": {},
   "outputs": [
    {
     "data": {
      "text/plain": [
       "(3, 3)"
      ]
     },
     "execution_count": 5,
     "metadata": {},
     "output_type": "execute_result"
    }
   ],
   "source": [
    "import numpy as np\n",
    "import random\n",
    "\n",
    "A = np.random.randint(10,size=(3,3))\n",
    "A.shape"
   ]
  },
  {
   "cell_type": "markdown",
   "metadata": {},
   "source": [
    "## Perkalian Matrix\n",
    "\n",
    "Perkalian matriks adalah operasi matematika yang menggabungkan dua matriks untuk menghasilkan matriks baru. Untuk melakukan perkalian matriks, jumlah kolom matriks pertama harus sama dengan jumlah baris matriks kedua. Hasilnya adalah matriks baru dengan jumlah baris sama dengan matriks pertama dan jumlah kolom sama dengan matriks kedua"
   ]
  },
  {
   "cell_type": "markdown",
   "metadata": {},
   "source": [
    "## Cara Kerja Perkalian Matrix\n",
    "\n",
    "Perkalian matriks bekerja dengan menggabungkan elemen-elemen matriks pertama dan matriks kedua sesuai dengan aturan perkalian matriks. Berikut adalah langkah-langkah umum cara kerja perkalian matriks:\n",
    "\n",
    "1. Periksa Kesesuaian: \n",
    "Pastikan jumlah kolom matriks pertama sama dengan jumlah baris matriks kedua. Jika tidak, maka perkalian matriks tidak bisa dilakukan.\n",
    "\n",
    "2. Hitung Elemen Baru: \n",
    "Untuk setiap elemen C[i][j] dalam matriks hasil C, lakukan perkalian antara baris i dari matriks pertama dengan kolom j dari matriks kedua. Misalnya, untuk menghitung C[1][1], perkalian dilakukan antara elemen-elemen baris pertama dari matriks pertama dengan elemen-elemen kolom pertama dari matriks kedua.\n",
    "\n",
    "3. Jumlahkan Hasil: \n",
    "Setelah melakukan perkalian, jumlahkan hasil perkalian untuk mendapatkan nilai elemen C[i][j] yang baru.\n",
    "\n",
    "4. Ulangi Langkah 2-3: \n",
    "Lakukan langkah-langkah 2 dan 3 untuk setiap elemen matriks hasil C.\n",
    "\n",
    "5. Hasil Akhir: \n",
    "Setelah semua elemen matriks hasil C dihitung, Anda akan mendapatkan matriks hasil yang merupakan hasil perkalian dari matriks pertama dan matriks kedua.\n"
   ]
  },
  {
   "cell_type": "markdown",
   "metadata": {},
   "source": [
    "\n",
    "## Cara Mengalikan Matrix Menggunakan Program Python Secara Manual"
   ]
  },
  {
   "cell_type": "code",
   "execution_count": 6,
   "metadata": {},
   "outputs": [
    {
     "name": "stdout",
     "output_type": "stream",
     "text": [
      "Matriks A [[5, 3], [5, 2], [3, 1]] \n",
      "\n",
      "MAtriks B [[5, 2, 3], [3, 6, 5]] \n",
      "\n",
      "panjang baris dan kolom\n",
      "Matriks A\n",
      "3 2 \n",
      "\n",
      "Matriks B\n",
      "2 3 \n",
      "\n",
      "hasil dari perkalian matrix\n",
      "[[34, 28, 30], [31, 22, 25], [18, 12, 14]] \n",
      "\n"
     ]
    }
   ],
   "source": [
    "listA = [\n",
    "    [5,3],\n",
    "    [5,2],\n",
    "    [3,1]\n",
    "    ]\n",
    "\n",
    "listB = [\n",
    "    [5,2,3],\n",
    "    [3,6,5],\n",
    "    ]\n",
    "  \n",
    "print(\"Matriks A\",listA,\"\\n\")\n",
    "print(\"MAtriks B\",listB,\"\\n\")\n",
    "\n",
    "print(\"panjang baris dan kolom\")\n",
    "\n",
    "print(\"Matriks A\")\n",
    "print(len(listA),len(listA[0]),\"\\n\")\n",
    "\n",
    "print(\"Matriks B\")\n",
    "print(len(listB),len(listB[0]),\"\\n\")\n",
    "\n",
    "# n adalah panjang baris matrix listA\n",
    "n = len(listA)\n",
    "\n",
    "# adalah panjang kolom matrix listA dan panjang baris matrix listB\n",
    "m = len(listA[0])\n",
    "\n",
    "# p adalah panjang baris matrix listB\n",
    "p = len(listB[0])\n",
    "\n",
    "hasil = []\n",
    "# perulangan terjadi sebanyak panjang baris listA\n",
    "for i in range(0,n):\n",
    "  hasil1 = []\n",
    "  # perulangan terjadi sebanyak panjang baris listB\n",
    "  for j in range(0,p):\n",
    "    jumlah = 0\n",
    "    for k in range(0,m):\n",
    "      jumlah += listA[i][k] * listB[k][j]\n",
    "    hasil1.append(jumlah)\n",
    "  hasil.append(hasil1)\n",
    "print(\"hasil dari perkalian matrix\")\n",
    "print(hasil,\"\\n\")"
   ]
  },
  {
   "cell_type": "markdown",
   "metadata": {},
   "source": [
    "## Cara Mengalikan Matrix Menggunakan Program Python Dengan Library Numpy\n"
   ]
  },
  {
   "cell_type": "code",
   "execution_count": 7,
   "metadata": {},
   "outputs": [
    {
     "name": "stdout",
     "output_type": "stream",
     "text": [
      "[[34 28 30]\n",
      " [31 22 25]\n",
      " [18 12 14]]\n"
     ]
    }
   ],
   "source": [
    "a = np.array([(5,3),\n",
    "              (5,2),\n",
    "              (3,1)])\n",
    "\n",
    "b = np.array([(5,2,3),\n",
    "              (3,6,5)])\n",
    "\n",
    "hasil = np.dot(a,b)\n",
    "print(hasil)"
   ]
  }
 ],
 "metadata": {
  "kernelspec": {
   "display_name": "Python 3",
   "language": "python",
   "name": "python3"
  },
  "language_info": {
   "codemirror_mode": {
    "name": "ipython",
    "version": 3
   },
   "file_extension": ".py",
   "mimetype": "text/x-python",
   "name": "python",
   "nbconvert_exporter": "python",
   "pygments_lexer": "ipython3",
   "version": "3.10.13"
  }
 },
 "nbformat": 4,
 "nbformat_minor": 2
}
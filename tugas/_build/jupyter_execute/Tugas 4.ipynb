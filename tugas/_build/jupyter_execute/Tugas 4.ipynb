{
 "cells": [
  {
   "cell_type": "markdown",
   "metadata": {},
   "source": [
    "# Determinan\n",
    "Determinant adalah nilai skalar yang dihasilkan fungsi dari entri-entri suatu matriks persegi. \n",
    "Determinan digunakan dalam berbagai konteks dalam aljabar linear, seperti untuk menentukan apakah sebuah matriks memiliki invers, untuk menghitung volume dari transformasi linier, dan dalam berbagai aplikasi matematika lainnya."
   ]
  },
  {
   "cell_type": "markdown",
   "metadata": {},
   "source": [
    "### Contoh Determinant"
   ]
  },
  {
   "cell_type": "code",
   "execution_count": 1,
   "metadata": {},
   "outputs": [
    {
     "name": "stdout",
     "output_type": "stream",
     "text": [
      "1\n"
     ]
    }
   ],
   "source": [
    "import numpy as np\n",
    "\n",
    "a = np.array([[1, 3],\n",
    "              [5, 1]])\n",
    "\n",
    "b = np.array([[1, 4, 3, 5],\n",
    "              [3, 1, 5, 6],\n",
    "              [6, 5, 1, 3],\n",
    "              [4, 3, 2, 2]])\n",
    "inv = np.array([[-0.07142857,  0.21428571],\n",
    "                [ 0.35714286,-0.07142857]])\n",
    "invb = np.array([[-0.21568627,  0.10457516,  0.16339869, -0.01960784],\n",
    "                [ 0.23529412, -0.23529412, -0.11764706,  0.29411765],\n",
    "                [ 0.05882353, -0.05882353, -0.52941176,  0.82352941],\n",
    "                [ 0.01960784,  0.20261438,  0.37908497, -0.7254902]])\n",
    "c = np.array([(1,0),\n",
    "              (0,1)])\n",
    "d = np.array([(1,0,0,0),\n",
    "              (0,1,0,0),\n",
    "              (0,0,1,0),\n",
    "              (0,0,0,1,)])\n",
    "\n",
    "de = np.linalg.det(a)\n",
    "dev = np.linalg.det(inv)\n",
    "deb = np.linalg.det(invb)\n",
    "inva = np.linalg.inv(a)\n",
    "invbe = np.linalg.inv(b)\n",
    "\n",
    "aa = de * dev\n",
    "aaa = round(aa)\n",
    "\n",
    "print(aaa)"
   ]
  },
  {
   "cell_type": "markdown",
   "metadata": {},
   "source": [
    "## Sifat Sifat Determinant\n"
   ]
  },
  {
   "cell_type": "markdown",
   "metadata": {},
   "source": [
    "### Menukar baris atau kolom dari matriks, akan mengubah tanda dari determinant\n"
   ]
  },
  {
   "cell_type": "code",
   "execution_count": 2,
   "metadata": {},
   "outputs": [
    {
     "name": "stdout",
     "output_type": "stream",
     "text": [
      "5\n"
     ]
    }
   ],
   "source": [
    "a = np.array ([(1,4,2),\n",
    "               (1,1,1),\n",
    "               (3,2,1)])\n",
    "detg = np.linalg.det(a)\n",
    "ron = round(detg)\n",
    "\n",
    "\n",
    "print(ron)"
   ]
  },
  {
   "cell_type": "markdown",
   "metadata": {},
   "source": [
    "Disini Hasil Dari Determinant A adalah 5, maka jika kita menukar salah satu barus atau kolom, akan mengubah nilai determinant nya"
   ]
  },
  {
   "cell_type": "code",
   "execution_count": 3,
   "metadata": {},
   "outputs": [
    {
     "name": "stdout",
     "output_type": "stream",
     "text": [
      "-5\n"
     ]
    }
   ],
   "source": [
    "a = np.array ([(1,1,1),\n",
    "               (1,4,2),\n",
    "               (3,2,1)])\n",
    "detg = np.linalg.det(a)\n",
    "ron = round(detg)\n",
    "\n",
    "\n",
    "print(ron)"
   ]
  },
  {
   "cell_type": "markdown",
   "metadata": {},
   "source": [
    "Disini kita lihat, apabila kita menukar baris 1 di pindah ke baris 2, maka nilai dari determinannya akan berbeda"
   ]
  },
  {
   "cell_type": "markdown",
   "metadata": {},
   "source": [
    "### Jika Baris Atau kolom adalah kelipatan Dari Baris lain, maka hasilnya akan 0"
   ]
  },
  {
   "cell_type": "code",
   "execution_count": 4,
   "metadata": {},
   "outputs": [
    {
     "name": "stdout",
     "output_type": "stream",
     "text": [
      "0\n"
     ]
    }
   ],
   "source": [
    "a = np.array ([(1,4,2),\n",
    "               (2,8,4),\n",
    "               (3,2,1)])\n",
    "detg = np.linalg.det(a)\n",
    "ron = round(detg)\n",
    "\n",
    "\n",
    "print(ron)"
   ]
  },
  {
   "cell_type": "markdown",
   "metadata": {},
   "source": [
    "Disini bisa kita lihat, baris 2 adalah kelipatan baris 1. maka hasil dari determinannya adalah 0"
   ]
  },
  {
   "cell_type": "markdown",
   "metadata": {},
   "source": [
    "## Cara Menghitung Determinan Dengan Cara Manual\n"
   ]
  },
  {
   "cell_type": "markdown",
   "metadata": {},
   "source": [
    "### Pertama Kita Memiliki matrik dengan ordo 4x4 untuk di cari determinannya \n",
    "\n",
    "\\begin{bmatrix}\n",
    "1 & 0 & 4 & -6\\\\\n",
    "2 & 5 & 0 & 3\\\\\n",
    "-1 & 2 & 3 & 5\\\\\n",
    "2 & 1 & -2 & 3\\\\\n",
    "\\end{bmatrix}\n",
    "\n"
   ]
  },
  {
   "cell_type": "markdown",
   "metadata": {},
   "source": [
    "### Kita Hilangkan baris 1 kolom 1 pada matriks di atas dan membuat matriks 3x3\n",
    "\n",
    "\\begin{bmatrix}\n",
    "5 & 0 & 3\\\\\n",
    "2 & 3 & 5\\\\\n",
    "1 & -2 & 3\\\\\n",
    "\\end{bmatrix}"
   ]
  },
  {
   "cell_type": "markdown",
   "metadata": {},
   "source": [
    "### kita hilangkan baris 1 kolom 1 pada matriks di atas dan membuat matriks 2x2\n",
    "\n",
    "\\begin{bmatrix}\n",
    "3 & 5\\\\\n",
    "-2 & 3\\\\\n",
    "\\end{bmatrix}\n",
    "\n"
   ]
  },
  {
   "cell_type": "markdown",
   "metadata": {},
   "source": [
    "### Kita kalikan silang dari matriks ordo 2x2 tersebut \n",
    "5 =\n",
    "3x3 = 9\n",
    "-2 x 5 = -10 "
   ]
  },
  {
   "cell_type": "markdown",
   "metadata": {},
   "source": [
    "### Kita hilangkan baris 1 kolom 3 pada matriks 3x3 di atas menjadi 2x2 \n",
    "\n",
    "\\begin{bmatrix}\n",
    "2 & 3\\\\\n",
    "1 & -2\\\\\n",
    "\\end{bmatrix}"
   ]
  },
  {
   "cell_type": "markdown",
   "metadata": {},
   "source": [
    "### kita kalikan matriks ordo 2x2 tersebut \n",
    "+3 =\n",
    "2 x -2 = -4\n",
    "1 x 3 = 3"
   ]
  },
  {
   "cell_type": "markdown",
   "metadata": {},
   "source": [
    "### Sekarang kita jumblahkan \n",
    "\n",
    "5 (9 - -10) +3(-4 - 4)\n",
    "5(19) + 3(-7) = 95 -21 = 74"
   ]
  },
  {
   "cell_type": "markdown",
   "metadata": {},
   "source": [
    "### Sekarang kita hilangkan baris 1 kolom 3 nya \n",
    "\n",
    "\\begin{bmatrix}\n",
    "1 & 0 & 4 & -6\\\\\n",
    "2 & 5 & 0 & 3\\\\\n",
    "-1 & 2 & 3 & 5\\\\\n",
    "2 & 1 & -2 & 3\\\\\n",
    "\\end{bmatrix}\n"
   ]
  },
  {
   "cell_type": "markdown",
   "metadata": {},
   "source": [
    "### Lakukan hal yang sama seperti di atas\n",
    "\n",
    "\\begin{bmatrix}\n",
    "2 & 5 & 3\\\\\n",
    "-1 & 2 & 5\\\\\n",
    "2 & 1 & 3\\\\\n",
    "\\end{bmatrix}\n",
    "\n",
    "2 =\n",
    "\\begin{bmatrix}\n",
    "2 & 5\\\\\n",
    "1 & 3\\\\\n",
    "\\end{bmatrix}\n",
    "\n",
    "-5 =\n",
    "\\begin{bmatrix}\n",
    "-1 & 5\\\\\n",
    "2 & 3\\\\\n",
    "\\end{bmatrix}\n",
    "\n",
    "+3 =\n",
    "\\begin{bmatrix}\n",
    "-1 & 2\\\\\n",
    "2 & 1\\\\\n",
    "\\end{bmatrix}\n",
    "\n",
    "2(6 - 5) -5(-3 - 10) +3(-1 - 4)\n",
    "2(1) -5(-13) +3(-5) = 2 + 65 - 15 = 2+50 = 52"
   ]
  },
  {
   "cell_type": "markdown",
   "metadata": {},
   "source": [
    "### Sekarang kita hilangkan baris 1 kolom 4 nya \n",
    "\n",
    "\\begin{bmatrix}\n",
    "1 & 0 & 4 & -6\\\\\n",
    "2 & 5 & 0 & 3\\\\\n",
    "-1 & 2 & 3 & 5\\\\\n",
    "2 & 1 & -2 & 3\\\\\n",
    "\\end{bmatrix}"
   ]
  },
  {
   "cell_type": "markdown",
   "metadata": {},
   "source": [
    "### Lakukan Hal Yang Sama juga\n",
    "\n",
    "\\begin{bmatrix}\n",
    "2 & 5 & 0\\\\\n",
    "-1 & 2 & 3\\\\\n",
    "2 & 1 & -2\\\\\n",
    "\\end{bmatrix}\n",
    "\n",
    "+2 =\n",
    "\\begin{bmatrix}\n",
    "2 & 3\\\\\n",
    "1 & -2\\\\\n",
    "\\end{bmatrix}\n",
    "\n",
    "-5 =\n",
    "\\begin{bmatrix}\n",
    "-1 & 3\\\\\n",
    "2 & -2\\\\\n",
    "\\end{bmatrix}\n",
    "\n",
    "+0 = \n",
    "\\begin{bmatrix}\n",
    "-1 & 2\\\\\n",
    "2 & 1\\\\\n",
    "\\end{bmatrix}\n",
    "\n",
    "2(-4 - 3) -5(2 - 6) + 0\n",
    "2(-7) - 5(-4) \n",
    "=-14 + 20 \n",
    "=6\n",
    "\n"
   ]
  },
  {
   "cell_type": "markdown",
   "metadata": {},
   "source": [
    "### Sekarang kita jumblahkan semua hasil\n",
    "\n",
    "74 + 208 + 36 = 318\n",
    "\n",
    "Maka Hasil Determinan dari matriks \n",
    "\\begin{bmatrix}\n",
    "1 & 0 & 4 & -6\\\\\n",
    "2 & 5 & 0 & 3\\\\\n",
    "-1 & 2 & 3 & 5\\\\\n",
    "2 & 1 & -2 & 3\\\\\n",
    "\\end{bmatrix}\n",
    "Adalah = 318\n"
   ]
  },
  {
   "cell_type": "code",
   "execution_count": 5,
   "metadata": {},
   "outputs": [
    {
     "name": "stdout",
     "output_type": "stream",
     "text": [
      "318\n"
     ]
    }
   ],
   "source": [
    "a = np.array([(1,0,4,-6),\n",
    "              (2,5,0,3),\n",
    "              (-1,2,3,5),\n",
    "              (2,1,-2,3)])\n",
    "\n",
    "detg = np.linalg.det(a)\n",
    "ron = round(detg)\n",
    "\n",
    "\n",
    "print(ron)"
   ]
  },
  {
   "cell_type": "markdown",
   "metadata": {},
   "source": [
    "## Proses menghitung determinan matriks 4x4 bebas menggunakan ekspansi kofaktor\n"
   ]
  },
  {
   "cell_type": "markdown",
   "metadata": {},
   "source": [
    "### Tentukan Matriks dan Ordo:\n",
    "   Misalkan matriks yang diberikan adalah \\( A \\) dengan ordo \\( 4 \\times 4 \\):\n",
    "   A = \n",
    "   \n",
    "   \\begin{bmatrix}\n",
    "   1 & 0 & 4 & -6 \\\\\n",
    "   2 & 5 & 0 & 3 \\\\\n",
    "   -1 & 2 & 3 & 5 \\\\\n",
    "   2 & 1 & -2 & 3 \\\\\n",
    "   \\end{bmatrix}\n",
    "\n"
   ]
  },
  {
   "cell_type": "markdown",
   "metadata": {},
   "source": [
    "### Kita akan menghitung determinan det(A) dengan menggunakan ekspansi kofaktor terhadap baris pertama. Rumusnya adalah:\n",
    "$$\n",
    "\\det(A) = a_{11} C_{11} - a_{12} C_{12} + a_{13} C_{13} - a_{14} C_{14}\n",
    "$$\n",
    "di mana  a_{11}, a_{12}, a_{13}, a_{14} adalah elemen-elemen baris pertama matriks A, dan C_{11}, C_{12}, C_{13}, C_{14} adalah kofaktor-kofaktor yang sesuai.\n",
    "\n",
    "### Langkah-langkahnya adalah sebagai berikut:\n",
    "\n",
    "1. **Tentukan Elemen dan Kofaktor:**\n",
    "   -$$ a_{11} = 1, a_{12} = 0, a_{13} = 4,  a_{14} = -6 $$\n",
    "\n",
    "2. **Hitung Kofaktor  C_{11}, C_{12}, C_{13}, C_{14} :**\n",
    "    $$ C_{11} = \\det(M_{11}) $$\n",
    "    $$ C_{12} = -\\det(M_{12}) $$\n",
    "    $$ C_{13} = \\det(M_{13}) $$\n",
    "    $$ C_{14} = -\\det(M_{14}) $$\n",
    "   di mana M_{ij} adalah matriks minor dari A setelah menghapus baris pertama dan kolom ke-j\n",
    "\n",
    "3. **Hitung Determinan Masing-masing Minor:**\n",
    "    $$ M_{11} = \\begin{bmatrix} 5 & 0 & 3 \\\\ 2 & 3 & 5 \\\\ 1 & 2 & 3 \\end{bmatrix} $$\n",
    "     $$ \\det(M_{11}) = 5(3) - 0(5) + 2(1) = 15 + 0 + 2 = 17 $$\n",
    "\n",
    "    $$ M_{12} = \\begin{bmatrix} 2 & 0 & 3 \\\\ -1 & 3 & 5 \\\\ 2 & 2 & 3 \\end{bmatrix} $$\n",
    "     $$ \\det(M_{12}) = 2(3) - 0(5) + (-1)(2) = 6 - 0 - 2 = 4 $$\n",
    "\n",
    "    $$ M_{13} = \\begin{bmatrix} 2 & 5 & 3 \\\\ -1 & 2 & 5 \\\\ 2 & 1 & 3 \\end{bmatrix} $$\n",
    "     $$ \\det(M_{13}) = 2(6) - 5(3) + 3(-1) = 12 - 15 - 3 = -6 $$\n",
    "\n",
    "    $$ M_{14} = \\begin{bmatrix} 2 & 5 & 0 \\\\ -1 & 2 & 3 \\\\ 2 & 1 & -2 \\end{bmatrix} $$\n",
    "     $$ \\det(M_{14}) = 2(2(-2) - 3(1)) - 5(-1(-2) - 3(2)) = 2(-4 - 3) - 5(2 + 6) = 2(-7) - 5(8) = -14 - 40 = -54 $$\n",
    "\n",
    "4. **Hitung Determinan Utama:**\n",
    "   $$\n",
    "   \\det(A) = (1)(17) - (0)(4) + (4)(-6) - (-6)(-54)\n",
    "          = 17 + 0 - 24 + 324\n",
    "          = 318\n",
    "   $$\n"
   ]
  },
  {
   "cell_type": "markdown",
   "metadata": {},
   "source": [
    "### Hasil\n",
    "Hasil Dari Det Matriks A adalah 318"
   ]
  }
 ],
 "metadata": {
  "kernelspec": {
   "display_name": "Python 3",
   "language": "python",
   "name": "python3"
  },
  "language_info": {
   "codemirror_mode": {
    "name": "ipython",
    "version": 3
   },
   "file_extension": ".py",
   "mimetype": "text/x-python",
   "name": "python",
   "nbconvert_exporter": "python",
   "pygments_lexer": "ipython3",
   "version": "3.10.13"
  }
 },
 "nbformat": 4,
 "nbformat_minor": 2
}
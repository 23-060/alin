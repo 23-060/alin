{
 "cells": [
  {
   "cell_type": "markdown",
   "metadata": {},
   "source": [
    "# EigenValue Dan EigenVector\n",
    "Nilai Eigen dan Vektor Eigen adalah konsep fundamental dalam teori struktur matriks persegi. Mereka memainkan peran penting dalam aplikasi aljabar linear\n",
    "\n",
    "Vektor Eigen dari sebuah matriks persegi A adalah vektor non-nol v dalam R^n sehingga ketika A dikalikan dengan v, hasilnya adalah kelipatan skalar dari v\n",
    "\n",
    "Dalam kata lain, jika kita memiliki matriks A dan vektor v, maka vektor v disebut vektor Eigen dari A jika memenuhi persamaan berikut:\n",
    "A × v = λ × v"
   ]
  },
  {
   "cell_type": "markdown",
   "metadata": {},
   "source": [
    "## Menghitung EigenValue dan EigenVector Menggunakan numpy"
   ]
  },
  {
   "cell_type": "code",
   "execution_count": 1,
   "metadata": {},
   "outputs": [
    {
     "name": "stdout",
     "output_type": "stream",
     "text": [
      "[[1 4]\n",
      " [2 3]]\n",
      "[-1.  5.]\n",
      "[[-1. -1.]\n",
      " [ 0. -1.]]\n"
     ]
    }
   ],
   "source": [
    "import numpy as np\n",
    "from numpy import linalg as LA\n",
    "\n",
    "a = np.array([[1,4],[2,3]])\n",
    "print(a)\n",
    "eigenvalues, eigenvectors = LA.eig(a)\n",
    "print(eigenvalues)\n",
    "print(eigenvectors.round())"
   ]
  },
  {
   "cell_type": "markdown",
   "metadata": {},
   "source": [
    "## Implementasi dari eigenvalue dan eigenvector dari analisis data\n",
    "### Konsep Eigenvalue dan Eigenvector\n",
    "\n",
    "#### Definisi\n",
    "- **Eigenvalue (Nilai Eigen):** Nilai skalar λ yang memenuhi persamaan Av=λv, di mana A, adalah matriks dan V adalah eigenvector yang sesuai.\n",
    "- **Eigenvector (Vektor Eigen):** Vektor V yang tidak berubah arah setelah dikalikan dengan matriks A, \n",
    "hanya skala atau panjangnya saja yang berubah sesuai dengan eigenvalue λ.\n",
    "\n",
    "#### Persamaan Karakteristik\n",
    "Untuk menemukan eigenvalue, kita menyelesaikan persamaan determinan berikut: det(A−λI)=0\n",
    "di mana I adalah matriks identitas dengan ukuran yang sama dengan A.\n"
   ]
  },
  {
   "cell_type": "markdown",
   "metadata": {},
   "source": [
    "### Contoh Hitungan Eigenvalue dan Eigenvector dengan NumPy\n",
    "\n",
    "#### Matriks 2x2\n",
    "Misalkan  A = \n",
    "\\begin{bmatrix} \n",
    "4 & 1 \\\\ \n",
    "2 & 3 \n",
    "\\end{bmatrix} .\n",
    "\n",
    "#### Matriks 3x3\n",
    "Misalkan  A = \n",
    "\\begin{bmatrix} \n",
    "6 & 2 & 1 \\\\ \n",
    "2 & 3 & 1 \\\\ 1 & 1 & 1 \n",
    "\\end{bmatrix} ."
   ]
  },
  {
   "cell_type": "code",
   "execution_count": 4,
   "metadata": {},
   "outputs": [
    {
     "name": "stdout",
     "output_type": "stream",
     "text": [
      "Matriks 2x2:\n",
      "[[4 1]\n",
      " [2 3]]\n",
      "Eigenvalues:\n",
      " [5. 2.]\n",
      "Eigenvectors:\n",
      " [[ 0.70710678 -0.4472136 ]\n",
      " [ 0.70710678  0.89442719]]\n",
      "\n",
      "\n",
      "Matriks 3x3:\n",
      "[[6 2 1]\n",
      " [2 3 1]\n",
      " [1 1 1]]\n",
      "Eigenvalues: \n",
      " [7.28799214 2.13307448 0.57893339]\n",
      "Eigenvectors:\n",
      " [[ 0.86643225  0.49742503 -0.0431682 ]\n",
      " [ 0.45305757 -0.8195891  -0.35073145]\n",
      " [ 0.20984279 -0.28432735  0.9354806 ]]\n"
     ]
    }
   ],
   "source": [
    "# Import libraries\n",
    "import numpy as np\n",
    "\n",
    "# Matriks 2x2\n",
    "A_2x2 = np.array([[4, 1],\n",
    "                  [2, 3]])\n",
    "\n",
    "# Hitung eigenvalue dan eigenvector\n",
    "eigenvalues_2x2, eigenvectors_2x2 = np.linalg.eig(A_2x2)\n",
    "\n",
    "print(\"Matriks 2x2:\")\n",
    "print(A_2x2)\n",
    "print(\"Eigenvalues:\\n\", eigenvalues_2x2)\n",
    "print(\"Eigenvectors:\\n\", eigenvectors_2x2)\n",
    "print(\"\\n\")\n",
    "\n",
    "# Matriks 3x3\n",
    "A_3x3 = np.array([[6, 2, 1],\n",
    "                  [2, 3, 1],\n",
    "                  [1, 1, 1]])\n",
    "\n",
    "# Hitung eigenvalue dan eigenvector\n",
    "eigenvalues_3x3, eigenvectors_3x3 = np.linalg.eig(A_3x3)\n",
    "\n",
    "print(\"Matriks 3x3:\")\n",
    "print(A_3x3)\n",
    "print(\"Eigenvalues: \\n\", eigenvalues_3x3)\n",
    "print(\"Eigenvectors:\\n\", eigenvectors_3x3)"
   ]
  },
  {
   "cell_type": "markdown",
   "metadata": {},
   "source": [
    "### Penjelasan Output\n",
    "- **Eigenvalues**: Nilai-nilai ini adalah skalar yang menunjukkan seberapa besar vektor eigen (eigenvector) akan diperbesar atau diperkecil ketika matriks A diaplikasikan padanya.\n",
    "- **Eigenvectors**: Vektor-vektor ini menunjukkan arah di mana transformasi matriks A hanya mengubah skala, bukan arah. Setiap kolom dari matriks hasil adalah eigenvector yang sesuai dengan eigenvalue pada posisi yang sama."
   ]
  }
 ],
 "metadata": {
  "kernelspec": {
   "display_name": "Python 3",
   "language": "python",
   "name": "python3"
  },
  "language_info": {
   "codemirror_mode": {
    "name": "ipython",
    "version": 3
   },
   "file_extension": ".py",
   "mimetype": "text/x-python",
   "name": "python",
   "nbconvert_exporter": "python",
   "pygments_lexer": "ipython3",
   "version": "3.10.13"
  }
 },
 "nbformat": 4,
 "nbformat_minor": 2
}

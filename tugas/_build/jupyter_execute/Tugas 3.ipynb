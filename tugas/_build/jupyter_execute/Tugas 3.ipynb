{
 "cells": [
  {
   "cell_type": "markdown",
   "metadata": {},
   "source": [
    "# Matrix Invers\n",
    "Dalam matematika, matriks invers adalah matriks yang ketika dikalikan dengan matriks aslinya menghasilkan matriks identitas.\n",
    "Misal kita memiliki Matriks A, Jika ada sebuah matriks B sedemikian rupa, sehingga A x B = B x A = I, dimana I adalah Matriks Identitas, Maka B disebut Invers dari A, yang di lambangkan A-1,"
   ]
  },
  {
   "cell_type": "markdown",
   "metadata": {},
   "source": [
    "## Mencari matrix invers menggunakan eliminasi gauss\n",
    "Metode Gauss-Jordan merupakan salah satu varian dari eliminasi Gaussian yang dilakukan dengan cara operasi reduksi baris untuk mencari invers suatu matriks.\n",
    "\n",
    "1 Misal kita mau mencari invers dari sebuah matriks 3x3\n",
    "A = \n",
    "\n",
    "\\begin{bmatrix}\n",
    "1 & 2 & 3\\\\ \n",
    "0 & 1 & 4\\\\ \n",
    "5 & 6 & 0\n",
    "\\end{bmatrix}\n",
    "\n",
    "I = \n",
    "\\begin{bmatrix}\n",
    "1 & 0 & 0\\\\\n",
    "0 & 1 & 0\\\\\n",
    "0 & 0 & 1\\\\\n",
    "\\end{bmatrix}\n",
    "\n",
    "2.Setelah itu kita menggunakan eliminasi gaus jordan\n",
    "\n",
    "\\begin{bmatrix}\n",
    "1 & 2 & 3 | 1 & 0 & 0\\\\\n",
    "0 & 1 & 4 | 0 & 1 & 0\\\\\n",
    "5 & 6 & 0 | 0 & 0 & 1\\\\\n",
    "\\end{bmatrix}\n",
    "\n",
    "3.Sekarang kita kurangkan baris ketiga dengan 5x baris pertama\n",
    "\n",
    "\\begin{bmatrix}\n",
    "1 & 2 & 3 | 1 & 0 & 0\\\\\n",
    "0 & 1 & 4 | 0 & 1 & 0\\\\\n",
    "0 & -4 & -15 | -5 & 0 & 1\\\\\n",
    "\\end{bmatrix}\n",
    "\n",
    "4.Dari matriks diatas, kita tambahkan baris ke 3 dengan 4kali baris ke dua \n",
    "\n",
    "\\begin{bmatrix}\n",
    "1 & 2 & 3 | 1 & 0 & 0\\\\\n",
    "0 & 1 & 4 | 0 & 1 & 0\\\\\n",
    "0 & 0 & 1 | -5 & 4 & 1\\\\\n",
    "\\end{bmatrix}\n",
    "\n",
    "5.Selanjutnya kita kurangkan baris kedua dengan 4x baris ketiga, dan kita kurangkan juga baris pertama dengan 3x baris ketiga\n",
    "\n",
    "\\begin{bmatrix}\n",
    "1 & 2 & 0 | 16 & -12 & -3\\\\\n",
    "0 & 1 & 0 | 20 & -15 & -4\\\\\n",
    "0 & 0 & 1 | -5 & 4 & 1\\\\\n",
    "\\end{bmatrix}\n",
    "\n",
    "6.langkah terakhir kita kurangkan baris pertama dengan 2x baris kedua\n",
    "\n",
    "\\begin{bmatrix}\n",
    "1 & 0 & 0 | -24 & 18 & 5\\\\\n",
    "0 & 1 & 0 | 20 & -15 & -4\\\\\n",
    "0 & 0 & 1 | -5 & 4 & 1\\\\\n",
    "\\end{bmatrix}\n",
    "\n",
    "Maka invers dari matriks A adalah : \n",
    "\n",
    "\\begin{bmatrix}\n",
    "-24 & 18 & 5\\\\\n",
    "20 & -15 & -4\\\\\n",
    "-5 & 4 & 1\\\\\n",
    "\\end{bmatrix}\n"
   ]
  },
  {
   "cell_type": "markdown",
   "metadata": {},
   "source": [
    "## Program untuk Mencari matrix invers menggunakan eliminasi gauss"
   ]
  },
  {
   "cell_type": "code",
   "execution_count": 1,
   "metadata": {},
   "outputs": [
    {
     "name": "stdout",
     "output_type": "stream",
     "text": [
      "Matriks A : \n",
      "\n",
      "[[1 2 3]\n",
      " [0 1 4]\n",
      " [5 6 0]]\n",
      "\n",
      " Matriks Identitas : \n",
      "\n",
      "[[1 0 0]\n",
      " [0 1 0]\n",
      " [0 0 1]]\n"
     ]
    }
   ],
   "source": [
    "import numpy as np\n",
    "\n",
    "# Membuat Matriks \n",
    "A = np.array([(1,2,3),\n",
    "             (0,1,4),\n",
    "             (5,6,0)])\n",
    "I = np.array([(1,0,0),\n",
    "              (0,1,0),\n",
    "              (0,0,1)])\n",
    "print(\"Matriks A : \\n\")\n",
    "print(A)\n",
    "print(\"\\n Matriks Identitas : \\n\")\n",
    "print(I)"
   ]
  },
  {
   "cell_type": "markdown",
   "metadata": {},
   "source": [
    "## Gunakan eliminasi Gauss"
   ]
  },
  {
   "cell_type": "code",
   "execution_count": 2,
   "metadata": {},
   "outputs": [
    {
     "name": "stdout",
     "output_type": "stream",
     "text": [
      "[[1 2 3 1 0 0]\n",
      " [0 1 4 0 1 0]\n",
      " [5 6 0 0 0 1]]\n"
     ]
    }
   ],
   "source": [
    "EG = np.array([(1,2,3,1,0,0),\n",
    "             (0,1,4,0,1,0),\n",
    "             (5,6,0,0,0,1)])\n",
    "print(EG)"
   ]
  },
  {
   "cell_type": "markdown",
   "metadata": {},
   "source": [
    "## Menambahkan Fungsi RowAdd"
   ]
  },
  {
   "cell_type": "code",
   "execution_count": 3,
   "metadata": {},
   "outputs": [],
   "source": [
    "def RowAdd(A,k,l,scale):\n",
    "# =============================================================================\n",
    "#     A adalah sebuah NumPy array.  RowAdd akan menghasilkan duplicate dari \n",
    "#     array dengan baris k akan di kali dengan 'scale' bukan 0. lalu nilai\n",
    "#     baris l akan di tambah dengan nilai baris k yang sudah dikalikan  \n",
    "# =============================================================================\n",
    "    m = A.shape[0]  # m adalah nomor baris di A\n",
    "    n = A.shape[1]  # n adalah nomor kolom di A\n",
    "\n",
    "    B = np.copy(A).astype('float64')\n",
    "\n",
    "    for j in range(n):\n",
    "        B[l][j] += B[k][j]*scale\n",
    "\n",
    "    return B\n",
    "\n",
    "def RowSwap(A,k,l):\n",
    "# =============================================================================\n",
    "#     A adalah sebuah NumPy array.  RowSwap akan menghasilkan duplicate dari \n",
    "#     array dengan baris k dan l di tukar\n",
    "# =============================================================================\n",
    "    m = A.shape[0]  # m adalah nomor baris di A\n",
    "    n = A.shape[1]  # n adalah nomor kolom di A\n",
    "\n",
    "    B = np.copy(A).astype('float64')\n",
    "\n",
    "    for j in range(n):\n",
    "        temp = B[k][j]\n",
    "        B[k][j] = B[l][j]\n",
    "        B[l][j] = temp\n",
    "\n",
    "    return B\n",
    "\n",
    "def RowScale(A,k,scale):\n",
    "# =============================================================================\n",
    "#     A adalah sebuah NumPy array.  RowScale akan menghasilkan duplicate dari \n",
    "#     array dengan baris k di kali dengan skalar bukan 0\n",
    "# =============================================================================\n",
    "    m = A.shape[0]  # m adalah nomor baris di A\n",
    "    n = A.shape[1]  # n adalah nomor kolom di A\n",
    "\n",
    "    B = np.copy(A).astype('float64')\n",
    "\n",
    "    for j in range(n):\n",
    "        B[k][j] *= scale\n",
    "\n",
    "    return B"
   ]
  },
  {
   "cell_type": "markdown",
   "metadata": {},
   "source": [
    "## Sekarang kita kurangkan baris ketiga dengan 5x baris pertama"
   ]
  },
  {
   "cell_type": "code",
   "execution_count": 4,
   "metadata": {},
   "outputs": [
    {
     "name": "stdout",
     "output_type": "stream",
     "text": [
      "Matriks awal:\n",
      "[[1 2 3 1 0 0]\n",
      " [0 1 4 0 1 0]\n",
      " [5 6 0 0 0 1]]\n",
      "\n",
      "Hasil:\n",
      "[[  1.   2.   3.   1.   0.   0.]\n",
      " [  0.   1.   4.   0.   1.   0.]\n",
      " [  0.  -4. -15.  -5.   0.   1.]]\n"
     ]
    }
   ],
   "source": [
    "RA = np.array([(1,2,3,1,0,0),\n",
    "             (0,1,4,0,1,0),\n",
    "             (5,6,0,0,0,1)])\n",
    "\n",
    "k = 0\n",
    "l = 2\n",
    "scale = -5\n",
    "\n",
    "result = RowAdd(RA, k, l, scale)\n",
    "print(\"Matriks awal:\")\n",
    "print(RA)\n",
    "print(\"\\nHasil:\")\n",
    "print(result)"
   ]
  },
  {
   "cell_type": "markdown",
   "metadata": {},
   "source": [
    "## Dari matriks diatas, kita tambahkan baris ke 3 dengan 4kali baris ke dua"
   ]
  },
  {
   "cell_type": "code",
   "execution_count": 5,
   "metadata": {},
   "outputs": [
    {
     "name": "stdout",
     "output_type": "stream",
     "text": [
      "Matriks awal:\n",
      "[[  1   2   3   1   0   0]\n",
      " [  0   1   4   0   1   0]\n",
      " [  0  -4 -15  -5   0   1]]\n",
      "\n",
      "Hasil:\n",
      "[[ 1.  2.  3.  1.  0.  0.]\n",
      " [ 0.  1.  4.  0.  1.  0.]\n",
      " [ 0.  0.  1. -5.  4.  1.]]\n"
     ]
    }
   ],
   "source": [
    "RA2 = np.array([(1,2,3,1,0,0),\n",
    "             (0,1,4,0,1,0),\n",
    "             (0,-4,-15,-5,0,1)])\n",
    "k = 1\n",
    "l = 2\n",
    "scale = 4\n",
    "\n",
    "result = RowAdd(RA2, k, l, scale)\n",
    "print(\"Matriks awal:\")\n",
    "print(RA2)\n",
    "print(\"\\nHasil:\")\n",
    "print(result)"
   ]
  },
  {
   "cell_type": "markdown",
   "metadata": {},
   "source": [
    "## selanjutnya kita kurangkan baris kedua dengan 4x baris ketiga,"
   ]
  },
  {
   "cell_type": "code",
   "execution_count": 6,
   "metadata": {},
   "outputs": [
    {
     "name": "stdout",
     "output_type": "stream",
     "text": [
      "Matriks awal:\n",
      "[[ 1  2  3  1  0  0]\n",
      " [ 0  1  4  0  1  0]\n",
      " [ 0  0  1 -5  4  1]]\n",
      "\n",
      "Hasil :\n",
      "[[  1.   2.   3.   1.   0.   0.]\n",
      " [  0.   1.   0.  20. -15.  -4.]\n",
      " [  0.   0.   1.  -5.   4.   1.]]\n"
     ]
    }
   ],
   "source": [
    "RA3 = np.array([(1,2,3,1,0,0),\n",
    "             (0,1,4,0,1,0),\n",
    "             (0,0,1,-5,4,1)])\n",
    "\n",
    "k = 2\n",
    "l = 1\n",
    "scale = -4\n",
    "\n",
    "result = RowAdd(RA3, k, l, scale)\n",
    "print(\"Matriks awal:\")\n",
    "print(RA3)\n",
    "print(\"\\nHasil :\")\n",
    "print(result)"
   ]
  },
  {
   "cell_type": "markdown",
   "metadata": {},
   "source": [
    "## kita kurangkan juga baris pertama dengan 3x baris ketiga"
   ]
  },
  {
   "cell_type": "code",
   "execution_count": 7,
   "metadata": {},
   "outputs": [
    {
     "name": "stdout",
     "output_type": "stream",
     "text": [
      "Matriks awal:\n",
      "[[  1   2   3   1   0   0]\n",
      " [  0   1   0  20 -15  -4]\n",
      " [  0   0   1  -5   4   1]]\n",
      "\n",
      "Hasil :\n",
      "[[  1.   2.   0.  16. -12.  -3.]\n",
      " [  0.   1.   0.  20. -15.  -4.]\n",
      " [  0.   0.   1.  -5.   4.   1.]]\n"
     ]
    }
   ],
   "source": [
    "RA4 = np.array([(1,2,3,1,0,0),\n",
    "             (0,1,0,20,-15,-4),\n",
    "             (0,0,1,-5,4,1)])\n",
    "k = 2\n",
    "l = 0\n",
    "scale = -3\n",
    "\n",
    "result = RowAdd(RA4, k, l, scale)\n",
    "print(\"Matriks awal:\")\n",
    "print(RA4)\n",
    "print(\"\\nHasil :\")\n",
    "print(result)\n"
   ]
  },
  {
   "cell_type": "markdown",
   "metadata": {},
   "source": [
    "## langkah terakhir kita kurangkan baris pertama dengan 2x baris kedua"
   ]
  },
  {
   "cell_type": "code",
   "execution_count": 8,
   "metadata": {},
   "outputs": [
    {
     "name": "stdout",
     "output_type": "stream",
     "text": [
      "Matriks awal:\n",
      "[[  1   2   0  16 -12  -3]\n",
      " [  0   1   0  20 -15  -4]\n",
      " [  0   0   1  -5   4   1]]\n",
      "\n",
      "Hasil :\n",
      "[[  1.   0.   0. -24.  18.   5.]\n",
      " [  0.   1.   0.  20. -15.  -4.]\n",
      " [  0.   0.   1.  -5.   4.   1.]]\n"
     ]
    }
   ],
   "source": [
    "RA5 = np.array([(1,2,0,16,-12,-3),\n",
    "             (0,1,0,20,-15,-4),\n",
    "             (0,0,1,-5,4,1)])\n",
    "k = 1\n",
    "l = 0\n",
    "scale = -2\n",
    "\n",
    "result = RowAdd(RA5, k, l, scale)\n",
    "print(\"Matriks awal:\")\n",
    "print(RA5)\n",
    "print(\"\\nHasil :\")\n",
    "print(result)"
   ]
  },
  {
   "cell_type": "markdown",
   "metadata": {},
   "source": [
    "Maka invers dari matriks A adalah : \n",
    "\\begin{bmatrix}\n",
    "-24 & 18 & 5\\\\\n",
    "20 & -15 & -4\\\\\n",
    "-5 & 4 & 1\\\\\n",
    "\\end{bmatrix}"
   ]
  },
  {
   "cell_type": "markdown",
   "metadata": {},
   "source": [
    "## Penyelesaian sistem persamaan linear menggunakan matriks invers \n",
    "Buatkan Penyelesaian sistem persamaan dari :\n",
    "\n",
    "$$\n",
    "    2a + 3b + c + d = 12\n",
    "\n",
    "    a + b + 5c — d = 15\n",
    "\n",
    "    3a + 2b + 2c + 4d = 9\n",
    "\n",
    "    4a — b + 3c + 2d = 5\n",
    "$$\n",
    "##### Matriks Sistem Persamaan linear \n",
    "$$\n",
    "\\begin{bmatrix}\n",
    "2 & 3 & 1 & 1\\\\\n",
    "1 & 1 & 5 & 1\\\\\n",
    "3 & 2 & 2 & 4\\\\\n",
    "4 & 1 & 3 & 2\n",
    "\\end{bmatrix}\n",
    "\\begin{bmatrix}\n",
    "12\\\\\n",
    "15\\\\\n",
    "9\\\\\n",
    "5\n",
    "\\end{bmatrix}\n",
    "$$"
   ]
  },
  {
   "cell_type": "code",
   "execution_count": 9,
   "metadata": {},
   "outputs": [
    {
     "name": "stdout",
     "output_type": "stream",
     "text": [
      "[[2 3 1 1 1 0 0 0]\n",
      " [1 1 5 1 0 1 0 0]\n",
      " [3 2 2 4 0 0 1 0]\n",
      " [4 1 3 2 0 0 0 1]]\n"
     ]
    }
   ],
   "source": [
    "import numpy as np\n",
    " \n",
    "A = np.array([[2,3,1,1,1,0,0,0],\n",
    "              [1,1,5,1,0,1,0,0],\n",
    "              [3,2,2,4,0,0,1,0],\n",
    "              [4,1,3,2,0,0,0,1]])\n",
    "print(A)"
   ]
  },
  {
   "cell_type": "code",
   "execution_count": 10,
   "metadata": {},
   "outputs": [
    {
     "name": "stdout",
     "output_type": "stream",
     "text": [
      "Matriks awal:\n",
      "[[2 3 1 1 1 0 0 0]\n",
      " [1 1 5 1 0 1 0 0]\n",
      " [3 2 2 4 0 0 1 0]\n",
      " [4 1 3 2 0 0 0 1]]\n",
      "\n",
      "Hasil :\n",
      "[[ 1.  2. -4.  0.  1. -1.  0.  0.]\n",
      " [ 1.  1.  5.  1.  0.  1.  0.  0.]\n",
      " [ 3.  2.  2.  4.  0.  0.  1.  0.]\n",
      " [ 4.  1.  3.  2.  0.  0.  0.  1.]]\n"
     ]
    }
   ],
   "source": [
    "k = 1\n",
    "l = 0\n",
    "scale = -1\n",
    "\n",
    "h = RowAdd(A, k, l, scale)\n",
    "print(\"Matriks awal:\")\n",
    "print(A)\n",
    "print(\"\\nHasil :\")\n",
    "print(h)"
   ]
  },
  {
   "cell_type": "code",
   "execution_count": 11,
   "metadata": {},
   "outputs": [
    {
     "name": "stdout",
     "output_type": "stream",
     "text": [
      "Matriks awal:\n",
      "[[ 1.  2. -4.  0.  1. -1.  0.  0.]\n",
      " [ 1.  1.  5.  1.  0.  1.  0.  0.]\n",
      " [ 3.  2.  2.  4.  0.  0.  1.  0.]\n",
      " [ 4.  1.  3.  2.  0.  0.  0.  1.]]\n",
      "\n",
      "Hasil :\n",
      "[[ 1.  2. -4.  0.  1. -1.  0.  0.]\n",
      " [ 0. -1.  9.  1. -1.  2.  0.  0.]\n",
      " [ 3.  2.  2.  4.  0.  0.  1.  0.]\n",
      " [ 4.  1.  3.  2.  0.  0.  0.  1.]]\n"
     ]
    }
   ],
   "source": [
    "k = 0\n",
    "l = 1\n",
    "scale = -1\n",
    "\n",
    "h2 = RowAdd(h, k, l, scale)\n",
    "print(\"Matriks awal:\")\n",
    "print(h)\n",
    "print(\"\\nHasil :\")\n",
    "print(h2)"
   ]
  },
  {
   "cell_type": "code",
   "execution_count": 12,
   "metadata": {},
   "outputs": [
    {
     "name": "stdout",
     "output_type": "stream",
     "text": [
      "Matriks awal:\n",
      "[[ 1.  2. -4.  0.  1. -1.  0.  0.]\n",
      " [ 0. -1.  9.  1. -1.  2.  0.  0.]\n",
      " [ 3.  2.  2.  4.  0.  0.  1.  0.]\n",
      " [ 4.  1.  3.  2.  0.  0.  0.  1.]]\n",
      "\n",
      "Hasil :\n",
      "[[ 1.  2. -4.  0.  1. -1.  0.  0.]\n",
      " [ 0. -1.  9.  1. -1.  2.  0.  0.]\n",
      " [ 0. -4. 14.  4. -3.  3.  1.  0.]\n",
      " [ 4.  1.  3.  2.  0.  0.  0.  1.]]\n"
     ]
    }
   ],
   "source": [
    "k = 0\n",
    "l = 2\n",
    "scale = -3\n",
    "\n",
    "h3 = RowAdd(h2, k, l, scale)\n",
    "print(\"Matriks awal:\")\n",
    "print(h2)\n",
    "print(\"\\nHasil :\")\n",
    "print(h3)"
   ]
  },
  {
   "cell_type": "code",
   "execution_count": 13,
   "metadata": {},
   "outputs": [
    {
     "name": "stdout",
     "output_type": "stream",
     "text": [
      "Matriks awal:\n",
      "[[ 1.  2. -4.  0.  1. -1.  0.  0.]\n",
      " [ 0. -1.  9.  1. -1.  2.  0.  0.]\n",
      " [ 0. -4. 14.  4. -3.  3.  1.  0.]\n",
      " [ 4.  1.  3.  2.  0.  0.  0.  1.]]\n",
      "\n",
      "Hasil :\n",
      "[[ 1.  2. -4.  0.  1. -1.  0.  0.]\n",
      " [ 0. -1.  9.  1. -1.  2.  0.  0.]\n",
      " [ 0. -4. 14.  4. -3.  3.  1.  0.]\n",
      " [ 0. -7. 19.  2. -4.  4.  0.  1.]]\n"
     ]
    }
   ],
   "source": [
    "k = 0\n",
    "l = 3\n",
    "scale = -4\n",
    "\n",
    "h4 = RowAdd(h3, k, l, scale)\n",
    "print(\"Matriks awal:\")\n",
    "print(h3)\n",
    "print(\"\\nHasil :\")\n",
    "print(h4)"
   ]
  },
  {
   "cell_type": "code",
   "execution_count": 14,
   "metadata": {},
   "outputs": [
    {
     "name": "stdout",
     "output_type": "stream",
     "text": [
      "Matriks awal:\n",
      "[[ 1.  2. -4.  0.  1. -1.  0.  0.]\n",
      " [ 0. -1.  9.  1. -1.  2.  0.  0.]\n",
      " [ 0. -4. 14.  4. -3.  3.  1.  0.]\n",
      " [ 0. -7. 19.  2. -4.  4.  0.  1.]]\n",
      "\n",
      "Hasil :\n",
      "[[ 1.  2. -4.  0.  1. -1.  0.  0.]\n",
      " [-0.  1. -9. -1.  1. -2. -0. -0.]\n",
      " [ 0. -4. 14.  4. -3.  3.  1.  0.]\n",
      " [ 0. -7. 19.  2. -4.  4.  0.  1.]]\n"
     ]
    }
   ],
   "source": [
    "k = 1\n",
    "l = 0\n",
    "scale = -1\n",
    "\n",
    "h5 = RowScale(h4, k, scale)\n",
    "print(\"Matriks awal:\")\n",
    "print(h4)\n",
    "print(\"\\nHasil :\")\n",
    "print(h5)"
   ]
  },
  {
   "cell_type": "code",
   "execution_count": 15,
   "metadata": {},
   "outputs": [
    {
     "name": "stdout",
     "output_type": "stream",
     "text": [
      "Matriks awal:\n",
      "[[ 1.  2. -4.  0.  1. -1.  0.  0.]\n",
      " [-0.  1. -9. -1.  1. -2. -0. -0.]\n",
      " [ 0. -4. 14.  4. -3.  3.  1.  0.]\n",
      " [ 0. -7. 19.  2. -4.  4.  0.  1.]]\n",
      "\n",
      "Hasil :\n",
      "[[ 1.  0. 14.  2. -1.  3.  0.  0.]\n",
      " [-0.  1. -9. -1.  1. -2. -0. -0.]\n",
      " [ 0. -4. 14.  4. -3.  3.  1.  0.]\n",
      " [ 0. -7. 19.  2. -4.  4.  0.  1.]]\n"
     ]
    }
   ],
   "source": [
    "k = 1\n",
    "l = 0\n",
    "scale = -2\n",
    "\n",
    "h6 = RowAdd(h5, k, l, scale)\n",
    "print(\"Matriks awal:\")\n",
    "print(h5)\n",
    "print(\"\\nHasil :\")\n",
    "print(h6)"
   ]
  },
  {
   "cell_type": "code",
   "execution_count": 16,
   "metadata": {},
   "outputs": [
    {
     "name": "stdout",
     "output_type": "stream",
     "text": [
      "Matriks awal:\n",
      "[[ 1.  0. 14.  2. -1.  3.  0.  0.]\n",
      " [-0.  1. -9. -1.  1. -2. -0. -0.]\n",
      " [ 0. -4. 14.  4. -3.  3.  1.  0.]\n",
      " [ 0. -7. 19.  2. -4.  4.  0.  1.]]\n",
      "\n",
      "Hasil :\n",
      "[[  1.   0.  14.   2.  -1.   3.   0.   0.]\n",
      " [ -0.   1.  -9.  -1.   1.  -2.  -0.  -0.]\n",
      " [  0.   0. -22.   0.   1.  -5.   1.   0.]\n",
      " [  0.  -7.  19.   2.  -4.   4.   0.   1.]]\n"
     ]
    }
   ],
   "source": [
    "k = 1\n",
    "l = 2\n",
    "scale = 4\n",
    "\n",
    "h7 = RowAdd(h6, k, l, scale)\n",
    "print(\"Matriks awal:\")\n",
    "print(h6)\n",
    "print(\"\\nHasil :\")\n",
    "print(h7)"
   ]
  },
  {
   "cell_type": "code",
   "execution_count": 17,
   "metadata": {},
   "outputs": [
    {
     "name": "stdout",
     "output_type": "stream",
     "text": [
      "Matriks awal:\n",
      "[[  1.   0.  14.   2.  -1.   3.   0.   0.]\n",
      " [ -0.   1.  -9.  -1.   1.  -2.  -0.  -0.]\n",
      " [  0.   0. -22.   0.   1.  -5.   1.   0.]\n",
      " [  0.  -7.  19.   2.  -4.   4.   0.   1.]]\n",
      "\n",
      "Hasil :\n",
      "[[  1.   0.  14.   2.  -1.   3.   0.   0.]\n",
      " [ -0.   1.  -9.  -1.   1.  -2.  -0.  -0.]\n",
      " [  0.   0. -22.   0.   1.  -5.   1.   0.]\n",
      " [  0.   0. -44.  -5.   3. -10.   0.   1.]]\n"
     ]
    }
   ],
   "source": [
    "k = 1\n",
    "l = 3\n",
    "scale = 7\n",
    "h8 = RowAdd(h7, k, l, scale)\n",
    "print(\"Matriks awal:\")\n",
    "print(h7)\n",
    "print(\"\\nHasil :\")\n",
    "print(h8)"
   ]
  },
  {
   "cell_type": "code",
   "execution_count": 18,
   "metadata": {},
   "outputs": [
    {
     "name": "stdout",
     "output_type": "stream",
     "text": [
      "Matriks awal:\n",
      "[[  1.   0.  14.   2.  -1.   3.   0.   0.]\n",
      " [ -0.   1.  -9.  -1.   1.  -2.  -0.  -0.]\n",
      " [  0.   0. -22.   0.   1.  -5.   1.   0.]\n",
      " [  0.   0. -44.  -5.   3. -10.   0.   1.]]\n",
      "\n",
      "Hasil :\n",
      "[[  1.           0.          14.           2.          -1.\n",
      "    3.           0.           0.        ]\n",
      " [ -0.           1.          -9.          -1.           1.\n",
      "   -2.          -0.          -0.        ]\n",
      " [ -0.          -0.           1.          -0.          -0.04545455\n",
      "    0.22727273  -0.04545455  -0.        ]\n",
      " [  0.           0.         -44.          -5.           3.\n",
      "  -10.           0.           1.        ]]\n"
     ]
    }
   ],
   "source": [
    "k = 2\n",
    "l = 2\n",
    "scale = -1/22\n",
    "\n",
    "h9 = RowScale(h8, k, scale)\n",
    "print(\"Matriks awal:\")\n",
    "print(h8)\n",
    "print(\"\\nHasil :\")\n",
    "print(h9)"
   ]
  },
  {
   "cell_type": "code",
   "execution_count": 19,
   "metadata": {},
   "outputs": [
    {
     "name": "stdout",
     "output_type": "stream",
     "text": [
      "Matriks awal:\n",
      "[[  1.           0.          14.           2.          -1.\n",
      "    3.           0.           0.        ]\n",
      " [ -0.           1.          -9.          -1.           1.\n",
      "   -2.          -0.          -0.        ]\n",
      " [ -0.          -0.           1.          -0.          -0.04545455\n",
      "    0.22727273  -0.04545455  -0.        ]\n",
      " [  0.           0.         -44.          -5.           3.\n",
      "  -10.           0.           1.        ]]\n",
      "\n",
      "Hasil :\n",
      "[[  1.           0.           0.           2.          -0.36363636\n",
      "   -0.18181818   0.63636364   0.        ]\n",
      " [ -0.           1.          -9.          -1.           1.\n",
      "   -2.          -0.          -0.        ]\n",
      " [ -0.          -0.           1.          -0.          -0.04545455\n",
      "    0.22727273  -0.04545455  -0.        ]\n",
      " [  0.           0.         -44.          -5.           3.\n",
      "  -10.           0.           1.        ]]\n"
     ]
    }
   ],
   "source": [
    "k = 2\n",
    "l = 0\n",
    "scale = -14\n",
    "\n",
    "h10 = RowAdd(h9, k, l,scale)\n",
    "print(\"Matriks awal:\")\n",
    "print(h9)\n",
    "print(\"\\nHasil :\")\n",
    "print(h10)"
   ]
  },
  {
   "cell_type": "code",
   "execution_count": 20,
   "metadata": {},
   "outputs": [
    {
     "name": "stdout",
     "output_type": "stream",
     "text": [
      "Matriks awal:\n",
      "[[  1.           0.           0.           2.          -0.36363636\n",
      "   -0.18181818   0.63636364   0.        ]\n",
      " [ -0.           1.          -9.          -1.           1.\n",
      "   -2.          -0.          -0.        ]\n",
      " [ -0.          -0.           1.          -0.          -0.04545455\n",
      "    0.22727273  -0.04545455  -0.        ]\n",
      " [  0.           0.         -44.          -5.           3.\n",
      "  -10.           0.           1.        ]]\n",
      "\n",
      "Hasil :\n",
      "[[  1.           0.           0.           2.          -0.36363636\n",
      "   -0.18181818   0.63636364   0.        ]\n",
      " [ -0.           1.           0.          -1.           0.59090909\n",
      "    0.04545455  -0.40909091  -0.        ]\n",
      " [ -0.          -0.           1.          -0.          -0.04545455\n",
      "    0.22727273  -0.04545455  -0.        ]\n",
      " [  0.           0.         -44.          -5.           3.\n",
      "  -10.           0.           1.        ]]\n"
     ]
    }
   ],
   "source": [
    "k = 2\n",
    "l = 1\n",
    "scale = 9\n",
    "\n",
    "h11 = RowAdd(h10, k, l,scale)\n",
    "print(\"Matriks awal:\")\n",
    "print(h10)\n",
    "print(\"\\nHasil :\")\n",
    "print(h11)"
   ]
  },
  {
   "cell_type": "code",
   "execution_count": 21,
   "metadata": {},
   "outputs": [
    {
     "name": "stdout",
     "output_type": "stream",
     "text": [
      "Matriks awal:\n",
      "[[  1.           0.           0.           2.          -0.36363636\n",
      "   -0.18181818   0.63636364   0.        ]\n",
      " [ -0.           1.           0.          -1.           0.59090909\n",
      "    0.04545455  -0.40909091  -0.        ]\n",
      " [ -0.          -0.           1.          -0.          -0.04545455\n",
      "    0.22727273  -0.04545455  -0.        ]\n",
      " [  0.           0.         -44.          -5.           3.\n",
      "  -10.           0.           1.        ]]\n",
      "\n",
      "Hasil :\n",
      "[[ 1.          0.          0.          2.         -0.36363636 -0.18181818\n",
      "   0.63636364  0.        ]\n",
      " [-0.          1.          0.         -1.          0.59090909  0.04545455\n",
      "  -0.40909091 -0.        ]\n",
      " [-0.         -0.          1.         -0.         -0.04545455  0.22727273\n",
      "  -0.04545455 -0.        ]\n",
      " [ 0.          0.          0.         -5.          1.          0.\n",
      "  -2.          1.        ]]\n"
     ]
    }
   ],
   "source": [
    "k = 2\n",
    "l = 3\n",
    "scale = 44\n",
    "\n",
    "h12 = RowAdd(h11, k, l,scale)\n",
    "print(\"Matriks awal:\")\n",
    "print(h11)\n",
    "print(\"\\nHasil :\")\n",
    "print(h12)"
   ]
  },
  {
   "cell_type": "code",
   "execution_count": 22,
   "metadata": {},
   "outputs": [
    {
     "name": "stdout",
     "output_type": "stream",
     "text": [
      "Matriks awal:\n",
      "[[ 1.          0.          0.          2.         -0.36363636 -0.18181818\n",
      "   0.63636364  0.        ]\n",
      " [-0.          1.          0.         -1.          0.59090909  0.04545455\n",
      "  -0.40909091 -0.        ]\n",
      " [-0.         -0.          1.         -0.         -0.04545455  0.22727273\n",
      "  -0.04545455 -0.        ]\n",
      " [ 0.          0.          0.         -5.          1.          0.\n",
      "  -2.          1.        ]]\n",
      "\n",
      "Hasil :\n",
      "[[ 1.          0.          0.          2.         -0.36363636 -0.18181818\n",
      "   0.63636364  0.        ]\n",
      " [-0.          1.          0.         -1.          0.59090909  0.04545455\n",
      "  -0.40909091 -0.        ]\n",
      " [-0.         -0.          1.         -0.         -0.04545455  0.22727273\n",
      "  -0.04545455 -0.        ]\n",
      " [-0.         -0.         -0.          1.         -0.2        -0.\n",
      "   0.4        -0.2       ]]\n"
     ]
    }
   ],
   "source": [
    "k = 3\n",
    "l = 3\n",
    "scale = -1/5\n",
    "\n",
    "h13 = RowScale(h12, k,scale)\n",
    "print(\"Matriks awal:\")\n",
    "print(h12)\n",
    "print(\"\\nHasil :\")\n",
    "print(h13)"
   ]
  },
  {
   "cell_type": "code",
   "execution_count": 23,
   "metadata": {},
   "outputs": [
    {
     "name": "stdout",
     "output_type": "stream",
     "text": [
      "Matriks awal:\n",
      "[[ 1.          0.          0.          2.         -0.36363636 -0.18181818\n",
      "   0.63636364  0.        ]\n",
      " [-0.          1.          0.         -1.          0.59090909  0.04545455\n",
      "  -0.40909091 -0.        ]\n",
      " [-0.         -0.          1.         -0.         -0.04545455  0.22727273\n",
      "  -0.04545455 -0.        ]\n",
      " [-0.         -0.         -0.          1.         -0.2        -0.\n",
      "   0.4        -0.2       ]]\n",
      "\n",
      "Hasil :\n",
      "[[ 1.          0.          0.          0.          0.03636364 -0.18181818\n",
      "  -0.16363636  0.4       ]\n",
      " [-0.          1.          0.         -1.          0.59090909  0.04545455\n",
      "  -0.40909091 -0.        ]\n",
      " [-0.         -0.          1.         -0.         -0.04545455  0.22727273\n",
      "  -0.04545455 -0.        ]\n",
      " [-0.         -0.         -0.          1.         -0.2        -0.\n",
      "   0.4        -0.2       ]]\n"
     ]
    }
   ],
   "source": [
    "k = 3\n",
    "l = 0\n",
    "scale = -2\n",
    "\n",
    "h14 = RowAdd(h13, k, l, scale)\n",
    "print(\"Matriks awal:\")\n",
    "print(h13)\n",
    "print(\"\\nHasil :\")\n",
    "print(h14)"
   ]
  },
  {
   "cell_type": "code",
   "execution_count": 24,
   "metadata": {},
   "outputs": [
    {
     "name": "stdout",
     "output_type": "stream",
     "text": [
      "Matriks awal:\n",
      "[[ 1.          0.          0.          0.          0.03636364 -0.18181818\n",
      "  -0.16363636  0.4       ]\n",
      " [-0.          1.          0.         -1.          0.59090909  0.04545455\n",
      "  -0.40909091 -0.        ]\n",
      " [-0.         -0.          1.         -0.         -0.04545455  0.22727273\n",
      "  -0.04545455 -0.        ]\n",
      " [-0.         -0.         -0.          1.         -0.2        -0.\n",
      "   0.4        -0.2       ]]\n",
      "\n",
      "Hasil :\n",
      "[[ 1.          0.          0.          0.          0.03636364 -0.18181818\n",
      "  -0.16363636  0.4       ]\n",
      " [-0.          1.          0.          0.          0.39090909  0.04545455\n",
      "  -0.00909091 -0.2       ]\n",
      " [-0.         -0.          1.         -0.         -0.04545455  0.22727273\n",
      "  -0.04545455 -0.        ]\n",
      " [-0.         -0.         -0.          1.         -0.2        -0.\n",
      "   0.4        -0.2       ]]\n"
     ]
    }
   ],
   "source": [
    "k = 3\n",
    "l = 1\n",
    "scale = 1\n",
    "\n",
    "h15 = RowAdd(h14, k, l, scale)\n",
    "print(\"Matriks awal:\")\n",
    "print(h14)\n",
    "print(\"\\nHasil :\")\n",
    "print(h15)"
   ]
  },
  {
   "cell_type": "code",
   "execution_count": 25,
   "metadata": {},
   "outputs": [
    {
     "name": "stdout",
     "output_type": "stream",
     "text": [
      "[[-1.76363626]\n",
      " [ 4.29090914]\n",
      " [ 2.4545454 ]\n",
      " [ 0.2       ]]\n"
     ]
    }
   ],
   "source": [
    "Inv = np.array([[0.03636364, -0.18181818,  -0.16363636,  0.4],\n",
    "            [0.39090909,  0.04545455,  -0.00909091, -0.2       ],\n",
    "            [-0.04545455,  0.22727273,  -0.04545455, -0        ],\n",
    "            [ -0.2,        -0,   0.4,        -0.2,       ]])\n",
    "B = np.array([[12],\n",
    "              [15],\n",
    "               [9],\n",
    "               [5]])\n",
    "\n",
    "hasil = np.dot(Inv,B)\n",
    "print(hasil)\n"
   ]
  },
  {
   "cell_type": "markdown",
   "metadata": {},
   "source": [
    "import numpy as np\n",
    " \n",
    "A = np.array([[2,3,1,1,1,0,0,0],\n",
    "              [1,1,5,1,0,1,0,0],\n",
    "              [3,2,2,4,0,0,1,0],\n",
    "              [4,1,3,2,0,0,0,1]])\n",
    "print(A)"
   ]
  },
  {
   "cell_type": "code",
   "execution_count": 26,
   "metadata": {},
   "outputs": [
    {
     "name": "stdout",
     "output_type": "stream",
     "text": [
      "[12.0000003]\n"
     ]
    }
   ],
   "source": [
    "A1 = A[0,:-4]\n",
    "per1 = A1@hasil\n",
    "print(per1)"
   ]
  },
  {
   "cell_type": "code",
   "execution_count": 27,
   "metadata": {},
   "outputs": [
    {
     "name": "stdout",
     "output_type": "stream",
     "text": [
      "[14.99999988]\n"
     ]
    }
   ],
   "source": [
    "A2 = A[1,:-4]\n",
    "per2 = A2@hasil\n",
    "print(per2)"
   ]
  },
  {
   "cell_type": "markdown",
   "metadata": {},
   "source": []
  },
  {
   "cell_type": "code",
   "execution_count": 28,
   "metadata": {},
   "outputs": [
    {
     "name": "stdout",
     "output_type": "stream",
     "text": [
      "[9.0000003]\n"
     ]
    }
   ],
   "source": [
    "A3 = A[2,:-4]\n",
    "per3 = A3@hasil\n",
    "print(per3)"
   ]
  },
  {
   "cell_type": "code",
   "execution_count": 29,
   "metadata": {},
   "outputs": [
    {
     "name": "stdout",
     "output_type": "stream",
     "text": [
      "[5.0000003]\n"
     ]
    }
   ],
   "source": [
    "A4 = A[3,:-4]\n",
    "per4 = A4@hasil\n",
    "print(per4)"
   ]
  }
 ],
 "metadata": {
  "kernelspec": {
   "display_name": "Python 3",
   "language": "python",
   "name": "python3"
  },
  "language_info": {
   "codemirror_mode": {
    "name": "ipython",
    "version": 3
   },
   "file_extension": ".py",
   "mimetype": "text/x-python",
   "name": "python",
   "nbconvert_exporter": "python",
   "pygments_lexer": "ipython3",
   "version": "3.10.13"
  }
 },
 "nbformat": 4,
 "nbformat_minor": 2
}
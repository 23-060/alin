{
 "cells": [
  {
   "cell_type": "markdown",
   "metadata": {},
   "source": [
    "# Sistem Persamaan Linier\n",
    "\n",
    "Sistem persamaan linear adalah kumpulan persamaan linear yang berisi beberapa variabel. Persamaan-persamaan ini saling terkait dan biasanya dipecahkan bersama-sama untuk menemukan solusi yang memenuhi semua persamaan dalam sistem tersebut"
   ]
  },
  {
   "cell_type": "markdown",
   "metadata": {},
   "source": [
    "### Contoh Persamaan Linier Sederhana\n",
    "\n",
    "Berikut adalah Contoh dari persamaan liner Satu Variabel:\n",
    "\n",
    "$$\n",
    "    2x + 3 = o\\\\\n",
    "$$\n",
    "\n",
    "Berikut adalah Contoh Dari persamaan Linier Dua Variabel:\n",
    "\n",
    "$$\n",
    "2x - 3y = 8 \\\\\n",
    "4x + y = 7\\\\\n",
    "$$\n",
    "\n",
    "Berikut adalah Contoh Dari persamaan linier tiga variabel:\n",
    "\n",
    "$$\n",
    "2x + 3y - z = 10 \\\\\n",
    "x - 2y + 2z = -1 \\\\ \n",
    "3x + y + 4z = 5 \\\\\n",
    "$$"
   ]
  }
 ],
 "metadata": {
  "kernelspec": {
   "display_name": "Python 3",
   "language": "python",
   "name": "python3"
  },
  "language_info": {
   "codemirror_mode": {
    "name": "ipython",
    "version": 3
   },
   "file_extension": ".py",
   "mimetype": "text/x-python",
   "name": "python",
   "nbconvert_exporter": "python",
   "pygments_lexer": "ipython3",
   "version": "3.10.13"
  }
 },
 "nbformat": 4,
 "nbformat_minor": 2
}
{
 "cells": [
  {
   "cell_type": "markdown",
   "metadata": {},
   "source": [
    "# Matrix Invers\n",
    "Dalam matematika, matriks invers adalah matriks yang ketika dikalikan dengan matriks aslinya menghasilkan matriks identitas.\n",
    "Misal kita memiliki Matriks A, Jika ada sebuah matriks B sedemikian rupa, sehingga A x B = B x A = I, dimana I adalah Matriks Identitas, Maka B disebut Invers dari A, yang di lambangkan A-1,"
   ]
  },
  {
   "cell_type": "markdown",
   "metadata": {},
   "source": [
    "## Mencari matrix invers menggunakan eliminasi gauss\n",
    "Metode Gauss-Jordan merupakan salah satu varian dari eliminasi Gaussian yang dilakukan dengan cara operasi reduksi baris untuk mencari invers suatu matriks.\n",
    "\n",
    "Misal kita mau mencari invers dari sebuah matriks 3x3\n",
    "A = \n",
    "$$\n",
    "\\begin{bmatrix}\n",
    "1 & 2 & 3\\\\ \n",
    "0 & 1 & 4\\\\ \n",
    "5 & 6 & 0\n",
    "\\end{bmatrix}\n",
    "$$\n",
    "$$\n",
    "I = \n",
    "\\begin{bmatrix}\n",
    "1 & 0 & 0\\\\\n",
    "0 & 1 & 0\\\\\n",
    "0 & 0 & 1\\\\\n",
    "\\end{bmatrix}\n",
    "$$\n",
    "Setelah itu kita menggunakan eliminasi gaus jordan\n",
    "$$\n",
    "\\begin{bmatrix}\n",
    "1 & 2 & 3 | 1 & 0 & 0\\\\\n",
    "0 & 1 & 4 | 0 & 1 & 0\\\\\n",
    "5 & 6 & 0 | 0 & 0 & 1\\\\\n",
    "\\end{bmatrix}\n",
    "$$ \n",
    "Sekarang kita kurangkan baris ketiga dengan 5x baris pertama\n",
    "$$\n",
    "\\begin{bmatrix}\n",
    "1 & 2 & 3 | 1 & 0 & 0\\\\\n",
    "0 & 1 & 4 | 0 & 1 & 0\\\\\n",
    "0 & -4 & -15 | -5 & 0 & 1\\\\\n",
    "\\end{bmatrix}\n",
    "$$\n",
    "Dari matriks diatas, kita tambahkan baris ke 3 dengan 4kali baris ke dua \n",
    "$$\n",
    "\\begin{bmatrix}\n",
    "1 & 2 & 3 | 1 & 0 & 0\\\\\n",
    "0 & 1 & 4 | 0 & 1 & 0\\\\\n",
    "0 & 0 & 1 | -5 & 4 & 1\\\\\n",
    "\\end{bmatrix}\n",
    "$$\n",
    "selanjutnya kita kurangkan baris kedua dengan 4x baris ketiga, dan kita kurangkan juga baris pertama dengan 3x baris ketiga\n",
    "$$\n",
    "\\begin{bmatrix}\n",
    "1 & 2 & 0 | 16 & -12 & -3\\\\\n",
    "0 & 1 & 0 | 20 & -15 & -4\\\\\n",
    "0 & 0 & 1 | -5 & 4 & 1\\\\\n",
    "\\end{bmatrix}\n",
    "$$\n",
    "langkah terakhir kita kurangkan baris pertama dengan 2x baris kedua\n",
    "$$\n",
    "\\begin{bmatrix}\n",
    "1 & 0 & 0 | -24 & 18 & 5\\\\\n",
    "0 & 1 & 0 | 20 & -15 & -4\\\\\n",
    "0 & 0 & 1 | -5 & 4 & 1\\\\\n",
    "\\end{bmatrix}\n",
    "$$\n",
    "Maka invers dari matriks A adalah : \n",
    "$$\n",
    "\\begin{bmatrix}\n",
    "-24 & 18 & 5\\\\\n",
    "20 & -15 & -4\\\\\n",
    "-5 & 4 & 1\\\\\n",
    "\\end{bmatrix}\n",
    "$$"
   ]
  },
  {
   "cell_type": "markdown",
   "metadata": {},
   "source": [
    "## Program untuk Mencari matrix invers menggunakan eliminasi gauss"
   ]
  },
  {
   "cell_type": "code",
   "execution_count": 2,
   "metadata": {},
   "outputs": [
    {
     "name": "stdout",
     "output_type": "stream",
     "text": [
      "Matriks A : \n",
      "\n",
      "[[1 2 3]\n",
      " [0 1 4]\n",
      " [5 6 0]]\n",
      "\n",
      " Matriks Identitas : \n",
      "\n",
      "[[1 0 0]\n",
      " [0 1 0]\n",
      " [0 0 1]]\n"
     ]
    }
   ],
   "source": [
    "import numpy as np\n",
    "\n",
    "# Membuat Matriks \n",
    "A = np.array([(1,2,3),\n",
    "             (0,1,4),\n",
    "             (5,6,0)])\n",
    "I = np.array([(1,0,0),\n",
    "              (0,1,0),\n",
    "              (0,0,1)])\n",
    "print(\"Matriks A : \\n\")\n",
    "print(A)\n",
    "print(\"\\n Matriks Identitas : \\n\")\n",
    "print(I)"
   ]
  },
  {
   "cell_type": "markdown",
   "metadata": {},
   "source": [
    "## Gunakan eliminasi Gauss"
   ]
  },
  {
   "cell_type": "code",
   "execution_count": null,
   "metadata": {},
   "outputs": [],
   "source": [
    "EG = np.array([(1,2,3,1,0,0),\n",
    "             (0,1,4,0,1,0),\n",
    "             (5,6,0,0,0,1)])\n",
    "print(EG)"
   ]
  },
  {
   "cell_type": "markdown",
   "metadata": {},
   "source": [
    "## Menambahkan Fungsi RowAdd"
   ]
  },
  {
   "cell_type": "code",
   "execution_count": 4,
   "metadata": {},
   "outputs": [],
   "source": [
    "def RowAdd(A,k,l,scale):\n",
    "# =============================================================================\n",
    "#     A adalah sebuah NumPy array.  RowAdd akan menghasilkan duplicate dari \n",
    "#     array dengan baris k akan di kali dengan 'scale' bukan 0. lalu nilai\n",
    "#     baris l akan di tambah dengan nilai baris k yang sudah dikalikan  \n",
    "# =============================================================================\n",
    "    m = A.shape[0]  # m adalah nomor baris di A\n",
    "    n = A.shape[1]  # n adalah nomor kolom di A\n",
    "\n",
    "    B = np.copy(A).astype('float64')\n",
    "\n",
    "    for j in range(n):\n",
    "        B[l][j] += B[k][j]*scale\n",
    "\n",
    "    return B\n",
    "\n",
    "def RowSwap(A,k,l):\n",
    "# =============================================================================\n",
    "#     A adalah sebuah NumPy array.  RowSwap akan menghasilkan duplicate dari \n",
    "#     array dengan baris k dan l di tukar\n",
    "# =============================================================================\n",
    "    m = A.shape[0]  # m adalah nomor baris di A\n",
    "    n = A.shape[1]  # n adalah nomor kolom di A\n",
    "\n",
    "    B = np.copy(A).astype('float64')\n",
    "\n",
    "    for j in range(n):\n",
    "        temp = B[k][j]\n",
    "        B[k][j] = B[l][j]\n",
    "        B[l][j] = temp\n",
    "\n",
    "    return B\n",
    "\n",
    "def RowScale(A,k,scale):\n",
    "# =============================================================================\n",
    "#     A adalah sebuah NumPy array.  RowScale akan menghasilkan duplicate dari \n",
    "#     array dengan baris k di kali dengan skalar bukan 0\n",
    "# =============================================================================\n",
    "    m = A.shape[0]  # m adalah nomor baris di A\n",
    "    n = A.shape[1]  # n adalah nomor kolom di A\n",
    "\n",
    "    B = np.copy(A).astype('float64')\n",
    "\n",
    "    for j in range(n):\n",
    "        B[k][j] *= scale\n",
    "\n",
    "    return B"
   ]
  },
  {
   "cell_type": "markdown",
   "metadata": {},
   "source": [
    "## Sekarang kita kurangkan baris ketiga dengan 5x baris pertama"
   ]
  },
  {
   "cell_type": "code",
   "execution_count": 14,
   "metadata": {},
   "outputs": [
    {
     "name": "stdout",
     "output_type": "stream",
     "text": [
      "Matriks awal:\n",
      "[[1 2 3 1 0 0]\n",
      " [0 1 4 0 1 0]\n",
      " [5 6 0 0 0 1]]\n",
      "\n",
      "Matriks setelah baris ketiga dikurang dengan 5x baris pertama:\n",
      "[[  1.   2.   3.   1.   0.   0.]\n",
      " [  0.   1.   4.   0.   1.   0.]\n",
      " [  0.  -4. -15.  -5.   0.   1.]]\n"
     ]
    }
   ],
   "source": [
    "RA = np.array([(1,2,3,1,0,0),\n",
    "             (0,1,4,0,1,0),\n",
    "             (5,6,0,0,0,1)])\n",
    "\n",
    "k = 0\n",
    "l = 2\n",
    "scale = -5\n",
    "\n",
    "result = RowAdd(RA, k, l, scale)\n",
    "print(\"Matriks awal:\")\n",
    "print(RA)\n",
    "print(\"\\nHasil:\")\n",
    "print(result)"
   ]
  },
  {
   "cell_type": "markdown",
   "metadata": {},
   "source": [
    "## Dari matriks diatas, kita tambahkan baris ke 3 dengan 4kali baris ke dua"
   ]
  },
  {
   "cell_type": "code",
   "execution_count": 18,
   "metadata": {},
   "outputs": [
    {
     "name": "stdout",
     "output_type": "stream",
     "text": [
      "Matriks awal:\n",
      "[[  1   2   3   1   0   0]\n",
      " [  0   1   4   0   1   0]\n",
      " [  0  -4 -15  -5   0   1]]\n",
      "\n",
      "Matriks setelah baris ketiga dikurang dengan 5x baris pertama:\n",
      "[[ 1.  2.  3.  1.  0.  0.]\n",
      " [ 0.  1.  4.  0.  1.  0.]\n",
      " [ 0.  0.  1. -5.  4.  1.]]\n"
     ]
    }
   ],
   "source": [
    "RA2 = np.array([(1,2,3,1,0,0),\n",
    "             (0,1,4,0,1,0),\n",
    "             (0,-4,-15,-5,0,1)])\n",
    "k = 1\n",
    "l = 2\n",
    "scale = 4\n",
    "\n",
    "result = RowAdd(RA2, k, l, scale)\n",
    "print(\"Matriks awal:\")\n",
    "print(RA2)\n",
    "print(\"\\nHasil:\")\n",
    "print(result)"
   ]
  },
  {
   "cell_type": "markdown",
   "metadata": {},
   "source": [
    "## selanjutnya kita kurangkan baris kedua dengan 4x baris ketiga,"
   ]
  },
  {
   "cell_type": "code",
   "execution_count": 21,
   "metadata": {},
   "outputs": [
    {
     "name": "stdout",
     "output_type": "stream",
     "text": [
      "Matriks awal:\n",
      "[[ 1  2  3  1  0  0]\n",
      " [ 0  1  4  0  1  0]\n",
      " [ 0  0  1 -5  4  1]]\n",
      "\n",
      "Matriks setelah baris ketiga dikurang dengan 5x baris pertama:\n",
      "[[  1.   2.   3.   1.   0.   0.]\n",
      " [  0.   1.   0.  20. -15.  -4.]\n",
      " [  0.   0.   1.  -5.   4.   1.]]\n"
     ]
    }
   ],
   "source": [
    "RA3 = np.array([(1,2,3,1,0,0),\n",
    "             (0,1,4,0,1,0),\n",
    "             (0,0,1,-5,4,1)])\n",
    "\n",
    "k = 2\n",
    "l = 1\n",
    "scale = -4\n",
    "\n",
    "result = RowAdd(RA3, k, l, scale)\n",
    "print(\"Matriks awal:\")\n",
    "print(RA3)\n",
    "print(\"\\nHasil :\")\n",
    "print(result)"
   ]
  },
  {
   "cell_type": "markdown",
   "metadata": {},
   "source": [
    "## kita kurangkan juga baris pertama dengan 3x baris ketiga"
   ]
  },
  {
   "cell_type": "code",
   "execution_count": 22,
   "metadata": {},
   "outputs": [
    {
     "name": "stdout",
     "output_type": "stream",
     "text": [
      "Matriks awal:\n",
      "[[  1   2   3   1   0   0]\n",
      " [  0   1   0  20 -15  -4]\n",
      " [  0   0   1  -5   4   1]]\n",
      "\n",
      "Hasil :\n",
      "[[  1.   2.   0.  16. -12.  -3.]\n",
      " [  0.   1.   0.  20. -15.  -4.]\n",
      " [  0.   0.   1.  -5.   4.   1.]]\n"
     ]
    }
   ],
   "source": [
    "RA4 = np.array([(1,2,3,1,0,0),\n",
    "             (0,1,0,20,-15,-4),\n",
    "             (0,0,1,-5,4,1)])\n",
    "k = 2\n",
    "l = 0\n",
    "scale = -3\n",
    "\n",
    "result = RowAdd(RA4, k, l, scale)\n",
    "print(\"Matriks awal:\")\n",
    "print(RA4)\n",
    "print(\"\\nHasil :\")\n",
    "print(result)\n"
   ]
  },
  {
   "cell_type": "markdown",
   "metadata": {},
   "source": [
    "## langkah terakhir kita kurangkan baris pertama dengan 2x baris kedua"
   ]
  },
  {
   "cell_type": "code",
   "execution_count": 24,
   "metadata": {},
   "outputs": [
    {
     "name": "stdout",
     "output_type": "stream",
     "text": [
      "Matriks awal:\n",
      "[[  1   2   0  16 -12  -3]\n",
      " [  0   1   0  20 -15  -4]\n",
      " [  0   0   1  -5   4   1]]\n",
      "\n",
      "Hasil :\n",
      "[[  1.   0.   0. -24.  18.   5.]\n",
      " [  0.   1.   0.  20. -15.  -4.]\n",
      " [  0.   0.   1.  -5.   4.   1.]]\n"
     ]
    }
   ],
   "source": [
    "RA5 = np.array([(1,2,0,16,-12,-3),\n",
    "             (0,1,0,20,-15,-4),\n",
    "             (0,0,1,-5,4,1)])\n",
    "k = 1\n",
    "l = 0\n",
    "scale = -2\n",
    "\n",
    "result = RowAdd(RA5, k, l, scale)\n",
    "print(\"Matriks awal:\")\n",
    "print(RA5)\n",
    "print(\"\\nHasil :\")\n",
    "print(result)"
   ]
  },
  {
   "cell_type": "markdown",
   "metadata": {},
   "source": [
    "Maka invers dari matriks A adalah : \n",
    "\\begin{bmatrix}\n",
    "-24 & 18 & 5\\\\\n",
    "20 & -15 & -4\\\\\n",
    "-5 & 4 & 1\\\\\n",
    "\\end{bmatrix}"
   ]
  },
  {
   "cell_type": "markdown",
   "metadata": {},
   "source": [
    "## Penyelesaian sistem persamaan linear menggunakan matriks invers \n",
    "Buatkan Penyelesaian sistem persamaan dari \n",
    "\\begin{bmatrix}\n",
    "4 & 8 & 5 & 4\\\\\n",
    "4 & 5 & 4 & 5\\\\\n",
    "5 & 4 & 1 & 6\\\\\n",
    "3 & 5 & 2 & 4\\\\\n",
    "\\end{bmatrix}\n",
    "menggunakan mantriks invers"
   ]
  },
  {
   "cell_type": "markdown",
   "metadata": {},
   "source": [
    "#### Jawaban :"
   ]
  },
  {
   "cell_type": "code",
   "execution_count": 66,
   "metadata": {},
   "outputs": [
    {
     "name": "stdout",
     "output_type": "stream",
     "text": [
      "Matriks A : \n",
      "\n",
      "[[1 2 3 4]\n",
      " [2 1 0 3]\n",
      " [3 0 1 2]\n",
      " [4 3 2 1]]\n",
      "\n",
      " Matriks identitas:\n",
      "[[1 0 0 0]\n",
      " [0 1 0 0]\n",
      " [0 0 1 0]\n",
      " [0 0 0 1]]\n"
     ]
    }
   ],
   "source": [
    "A = np.array([(4,8,5,4),\n",
    "              (4,5,4,5),\n",
    "              (5,4,1,6),\n",
    "              (3,5,2,4)])\n",
    "I = np.array([(1,0,0,0),\n",
    "              (0,1,0,0),\n",
    "              (0,0,1,0),\n",
    "              (0,0,0,1)])\n",
    "print(\"Matriks A : \\n\")\n",
    "print(A)\n",
    "print(\"\\n Matriks identitas:\")\n",
    "print(I)\n",
    "    "
   ]
  },
  {
   "cell_type": "code",
   "execution_count": 13,
   "metadata": {},
   "outputs": [
    {
     "name": "stdout",
     "output_type": "stream",
     "text": [
      "[[1 2 2 4 1 0 0 0]\n",
      " [2 6 4 0 0 1 0 0]\n",
      " [0 4 2 4 0 0 1 0]\n",
      " [2 4 4 3 0 0 0 1]]\n"
     ]
    }
   ],
   "source": [
    "A_E =np.array([(1,2,2,4,1,0,0,0),\n",
    "              (2,6,4,0,0,1,0,0),\n",
    "              (0,4,2,4,0,0,1,0),\n",
    "              (2,4,4,3,0,0,0,1)])\n",
    "print(A_E)"
   ]
  },
  {
   "cell_type": "code",
   "execution_count": 7,
   "metadata": {},
   "outputs": [
    {
     "name": "stdout",
     "output_type": "stream",
     "text": [
      "Matriks awal:\n",
      "[[1 2 2 4 1 0 0 0]\n",
      " [2 6 4 0 0 1 0 0]\n",
      " [0 4 2 4 0 0 1 0]\n",
      " [2 4 4 3 0 0 0 1]]\n",
      "\n",
      "Hasil :\n",
      "[[ 1.  2.  2.  4.  1.  0.  0.  0.]\n",
      " [ 0.  2.  0. -8. -2.  1.  0.  0.]\n",
      " [ 0.  4.  2.  4.  0.  0.  1.  0.]\n",
      " [ 2.  4.  4.  3.  0.  0.  0.  1.]]\n"
     ]
    }
   ],
   "source": [
    "A_1 =np.array([(1,2,2,4,1,0,0,0),\n",
    "              (2,6,4,0,0,1,0,0),\n",
    "              (0,4,2,4,0,0,1,0),\n",
    "              (2,4,4,3,0,0,0,1)])\n",
    "\n",
    "k = 0\n",
    "l = 1\n",
    "scale = -2\n",
    "\n",
    "h = RowAdd(A_1, k, l, scale)\n",
    "print(\"Matriks awal:\")\n",
    "print(A_1)\n",
    "print(\"\\nHasil :\")\n",
    "print(h)"
   ]
  },
  {
   "cell_type": "code",
   "execution_count": 19,
   "metadata": {},
   "outputs": [
    {
     "name": "stdout",
     "output_type": "stream",
     "text": [
      "Matriks awal:\n",
      "[[ 1.  2.  2.  4.  1.  0.  0.  0.]\n",
      " [ 0.  2.  0. -8. -2.  1.  0.  0.]\n",
      " [ 0. -4. -2. -4.  0.  0. -1.  0.]\n",
      " [ 0.  0.  0. -5. -2.  0.  0.  1.]]\n",
      "\n",
      "Hasil :\n",
      "[[  1.   2.   2.   4.   1.   0.   0.   0.]\n",
      " [  0.   2.   0.  -8.  -2.   1.   0.   0.]\n",
      " [  0.  -4.  -2.  -4.   0.   0.  -1.   0.]\n",
      " [ -2.  -4.  -4. -13.  -4.   0.   0.   1.]]\n"
     ]
    }
   ],
   "source": [
    "k = 0\n",
    "l = 3\n",
    "scale = -2\n",
    "\n",
    "result2 = RowAdd(result, k, l, scale)\n",
    "print(\"Matriks awal:\")\n",
    "print(result)\n",
    "print(\"\\nHasil :\")\n",
    "print(result2)"
   ]
  },
  {
   "cell_type": "code",
   "execution_count": 20,
   "metadata": {},
   "outputs": [
    {
     "name": "stdout",
     "output_type": "stream",
     "text": [
      "Matriks awal:\n",
      "[[  1.   2.   2.   4.   1.   0.   0.   0.]\n",
      " [  0.   2.   0.  -8.  -2.   1.   0.   0.]\n",
      " [  0.  -4.  -2.  -4.   0.   0.  -1.   0.]\n",
      " [ -2.  -4.  -4. -13.  -4.   0.   0.   1.]]\n",
      "\n",
      "Hasil :\n",
      "[[  1.   2.   2.   4.   1.   0.   0.   0.]\n",
      " [  0.   2.   0.  -8.  -2.   1.   0.   0.]\n",
      " [  0.   4.   2.   4.   0.   0.   1.   0.]\n",
      " [ -2.  -4.  -4. -13.  -4.   0.   0.   1.]]\n"
     ]
    }
   ],
   "source": [
    "k = 2\n",
    "l = 2\n",
    "scale = -2\n",
    "\n",
    "result3 = RowAdd(result2, k, l, scale)\n",
    "print(\"Matriks awal:\")\n",
    "print(result2)\n",
    "print(\"\\nHasil :\")\n",
    "print(result3)"
   ]
  },
  {
   "cell_type": "code",
   "execution_count": 25,
   "metadata": {},
   "outputs": [
    {
     "name": "stdout",
     "output_type": "stream",
     "text": [
      "Matriks awal:\n",
      "[[  1.   2.   2.   4.   1.   0.   0.   0.]\n",
      " [  0.   2.   0.  -8.  -2.   1.   0.   0.]\n",
      " [  0.   4.   2.   4.   0.   0.   1.   0.]\n",
      " [ -2.  -4.  -4. -13.  -4.   0.   0.   1.]]\n",
      "\n",
      "Matriks setelah RowScale:\n",
      "[[ 1.  2.  2.  4.  1.  0.  0.  0.]\n",
      " [ 0.  2.  0. -8. -2.  1.  0.  0.]\n",
      " [ 0.  4.  2.  4.  0.  0.  1.  0.]\n",
      " [ 0.  0.  0. -5. -2.  0.  0.  1.]]\n"
     ]
    }
   ],
   "source": [
    "k = 0\n",
    "l = 3\n",
    "scale = 2\n",
    "\n",
    "result4 = RowAdd(result3, k, l, scale)\n",
    "print(\"Matriks awal:\")\n",
    "print(result3)\n",
    "print(\"\\nMatriks setelah RowScale:\")\n",
    "print(result4)"
   ]
  },
  {
   "cell_type": "code",
   "execution_count": 26,
   "metadata": {},
   "outputs": [
    {
     "name": "stdout",
     "output_type": "stream",
     "text": [
      "Matriks awal:\n",
      "[[ 1.  2.  2.  4.  1.  0.  0.  0.]\n",
      " [ 0.  2.  0. -8. -2.  1.  0.  0.]\n",
      " [ 0.  4.  2.  4.  0.  0.  1.  0.]\n",
      " [ 0.  0.  0. -5. -2.  0.  0.  1.]]\n",
      "\n",
      "Matriks setelah RowScale:\n",
      "[[ 1.   2.   2.   4.   1.   0.   0.   0. ]\n",
      " [ 0.   1.   0.  -4.  -1.   0.5  0.   0. ]\n",
      " [ 0.   4.   2.   4.   0.   0.   1.   0. ]\n",
      " [ 0.   0.   0.  -5.  -2.   0.   0.   1. ]]\n"
     ]
    }
   ],
   "source": [
    "k = 1\n",
    "l = 1\n",
    "scale = 1/2\n",
    "\n",
    "result5 = RowScale(result4, k, scale)\n",
    "print(\"Matriks awal:\")\n",
    "print(result4)\n",
    "print(\"\\nMatriks setelah RowScale:\")\n",
    "print(result5)"
   ]
  },
  {
   "cell_type": "code",
   "execution_count": 27,
   "metadata": {},
   "outputs": [
    {
     "name": "stdout",
     "output_type": "stream",
     "text": [
      "Matriks awal:\n",
      "[[ 1.   2.   2.   4.   1.   0.   0.   0. ]\n",
      " [ 0.   1.   0.  -4.  -1.   0.5  0.   0. ]\n",
      " [ 0.   4.   2.   4.   0.   0.   1.   0. ]\n",
      " [ 0.   0.   0.  -5.  -2.   0.   0.   1. ]]\n",
      "\n",
      "Matriks setelah RowScale:\n",
      "[[ 1.   2.   2.   4.   1.   0.   0.   0. ]\n",
      " [ 0.   1.   0.  -4.  -1.   0.5  0.   0. ]\n",
      " [ 0.   0.   2.  20.   4.  -2.   1.   0. ]\n",
      " [ 0.   0.   0.  -5.  -2.   0.   0.   1. ]]\n"
     ]
    }
   ],
   "source": [
    "k = 1\n",
    "l = 2\n",
    "scale = -4\n",
    "\n",
    "result6 = RowAdd(result5, k, l, scale)\n",
    "print(\"Matriks awal:\")\n",
    "print(result5)\n",
    "print(\"\\nMatriks setelah RowScale:\")\n",
    "print(result6)"
   ]
  },
  {
   "cell_type": "code",
   "execution_count": 28,
   "metadata": {},
   "outputs": [
    {
     "name": "stdout",
     "output_type": "stream",
     "text": [
      "Matriks awal:\n",
      "[[ 1.   2.   2.   4.   1.   0.   0.   0. ]\n",
      " [ 0.   1.   0.  -4.  -1.   0.5  0.   0. ]\n",
      " [ 0.   0.   2.  20.   4.  -2.   1.   0. ]\n",
      " [ 0.   0.   0.  -5.  -2.   0.   0.   1. ]]\n",
      "\n",
      "Matriks setelah RowScale:\n",
      "[[ 1.   2.   2.   4.   1.   0.   0.   0. ]\n",
      " [ 0.   1.   0.  -4.  -1.   0.5  0.   0. ]\n",
      " [ 0.   0.   1.  10.   2.  -1.   0.5  0. ]\n",
      " [ 0.   0.   0.  -5.  -2.   0.   0.   1. ]]\n"
     ]
    }
   ],
   "source": [
    "k = 2\n",
    "l = 2\n",
    "scale = 1/2\n",
    "\n",
    "result7 = RowScale(result6, k, scale)\n",
    "print(\"Matriks awal:\")\n",
    "print(result6)\n",
    "print(\"\\nMatriks setelah RowScale:\")\n",
    "print(result7)"
   ]
  },
  {
   "cell_type": "code",
   "execution_count": 31,
   "metadata": {},
   "outputs": [
    {
     "name": "stdout",
     "output_type": "stream",
     "text": [
      "Matriks awal:\n",
      "[[ 1.   2.   2.   4.   1.   0.   0.   0. ]\n",
      " [ 0.   1.   0.  -4.  -1.   0.5  0.   0. ]\n",
      " [ 0.   0.   1.  10.   2.  -1.   0.5  0. ]\n",
      " [ 0.   0.   0.  -5.  -2.   0.   0.   1. ]]\n",
      "\n",
      "Matriks setelah RowScale:\n",
      "[[ 1.   2.   2.   4.   1.   0.   0.   0. ]\n",
      " [ 0.   1.   0.  -4.  -1.   0.5  0.   0. ]\n",
      " [ 0.   0.   1.  10.   2.  -1.   0.5  0. ]\n",
      " [-0.  -0.  -0.   1.   0.4 -0.  -0.  -0.2]]\n"
     ]
    }
   ],
   "source": [
    "k = 3\n",
    "l = 3\n",
    "scale = -1/5\n",
    "\n",
    "result8 = RowScale(result7, k, scale)\n",
    "print(\"Matriks awal:\")\n",
    "print(result7)\n",
    "print(\"\\nMatriks setelah RowScale:\")\n",
    "print(result8)"
   ]
  },
  {
   "cell_type": "code",
   "execution_count": 32,
   "metadata": {},
   "outputs": [
    {
     "name": "stdout",
     "output_type": "stream",
     "text": [
      "Matriks awal:\n",
      "[[ 1.   2.   2.   4.   1.   0.   0.   0. ]\n",
      " [ 0.   1.   0.  -4.  -1.   0.5  0.   0. ]\n",
      " [ 0.   0.   1.  10.   2.  -1.   0.5  0. ]\n",
      " [-0.  -0.  -0.   1.   0.4 -0.  -0.  -0.2]]\n",
      "\n",
      "Matriks setelah RowScale:\n",
      "[[ 1.   2.   2.   4.   1.   0.   0.   0. ]\n",
      " [ 0.   1.   0.  -4.  -1.   0.5  0.   0. ]\n",
      " [ 0.   0.   1.   0.  -2.  -1.   0.5  2. ]\n",
      " [-0.  -0.  -0.   1.   0.4 -0.  -0.  -0.2]]\n"
     ]
    }
   ],
   "source": [
    "k = 3\n",
    "l = 2\n",
    "scale = -10\n",
    "\n",
    "result9 = RowAdd(result8, k, l, scale)\n",
    "print(\"Matriks awal:\")\n",
    "print(result8)\n",
    "print(\"\\nMatriks setelah RowScale:\")\n",
    "print(result9)"
   ]
  },
  {
   "cell_type": "code",
   "execution_count": 34,
   "metadata": {},
   "outputs": [
    {
     "name": "stdout",
     "output_type": "stream",
     "text": [
      "Matriks awal:\n",
      "[[ 1.   2.   2.   4.   1.   0.   0.   0. ]\n",
      " [ 0.   1.   0.  -4.  -1.   0.5  0.   0. ]\n",
      " [ 0.   0.   1.   0.  -2.  -1.   0.5  2. ]\n",
      " [-0.  -0.  -0.   1.   0.4 -0.  -0.  -0.2]]\n",
      "\n",
      "Matriks setelah RowScale:\n",
      "[[ 1.   2.   2.   4.   1.   0.   0.   0. ]\n",
      " [ 0.   1.   0.   0.   0.6  0.5  0.  -0.8]\n",
      " [ 0.   0.   1.   0.  -2.  -1.   0.5  2. ]\n",
      " [-0.  -0.  -0.   1.   0.4 -0.  -0.  -0.2]]\n"
     ]
    }
   ],
   "source": [
    "k = 3\n",
    "l = 1\n",
    "scale = 4\n",
    "\n",
    "result10 = RowAdd(result9, k, l, scale)\n",
    "print(\"Matriks awal:\")\n",
    "print(result9)\n",
    "print(\"\\nMatriks setelah RowScale:\")\n",
    "print(result10)"
   ]
  },
  {
   "cell_type": "code",
   "execution_count": 35,
   "metadata": {},
   "outputs": [
    {
     "name": "stdout",
     "output_type": "stream",
     "text": [
      "Matriks awal:\n",
      "[[ 1.   2.   2.   4.   1.   0.   0.   0. ]\n",
      " [ 0.   1.   0.   0.   0.6  0.5  0.  -0.8]\n",
      " [ 0.   0.   1.   0.  -2.  -1.   0.5  2. ]\n",
      " [-0.  -0.  -0.   1.   0.4 -0.  -0.  -0.2]]\n",
      "\n",
      "Matriks setelah RowScale:\n",
      "[[ 1.   2.   2.   0.  -0.6  0.   0.   0.8]\n",
      " [ 0.   1.   0.   0.   0.6  0.5  0.  -0.8]\n",
      " [ 0.   0.   1.   0.  -2.  -1.   0.5  2. ]\n",
      " [-0.  -0.  -0.   1.   0.4 -0.  -0.  -0.2]]\n"
     ]
    }
   ],
   "source": [
    "k = 3\n",
    "l = 0\n",
    "scale = -4\n",
    "\n",
    "result11 = RowAdd(result10, k, l, scale)\n",
    "print(\"Matriks awal:\")\n",
    "print(result10)\n",
    "print(\"\\nMatriks setelah RowScale:\")\n",
    "print(result11)"
   ]
  },
  {
   "cell_type": "code",
   "execution_count": 42,
   "metadata": {},
   "outputs": [
    {
     "name": "stdout",
     "output_type": "stream",
     "text": [
      "Matriks awal:\n",
      "[[ 1.   2.   2.   0.  -0.6  0.   0.   0.8]\n",
      " [ 0.   1.   0.   0.   0.6  0.5  0.  -0.8]\n",
      " [ 0.   0.   1.   0.  -2.  -1.   0.5  2. ]\n",
      " [-0.  -0.  -0.   1.   0.4 -0.  -0.  -0.2]]\n",
      "\n",
      "Matriks setelah RowScale:\n",
      "[[ 1.   2.   0.   0.   3.4  2.  -1.  -3.2]\n",
      " [ 0.   1.   0.   0.   0.6  0.5  0.  -0.8]\n",
      " [ 0.   0.   1.   0.  -2.  -1.   0.5  2. ]\n",
      " [-0.  -0.  -0.   1.   0.4 -0.  -0.  -0.2]]\n"
     ]
    }
   ],
   "source": [
    "k = 2\n",
    "l = 0\n",
    "scale = -2\n",
    "\n",
    "result12 = RowAdd(result11, k, l, scale)\n",
    "print(\"Matriks awal:\")\n",
    "print(result11)\n",
    "print(\"\\nMatriks setelah RowScale:\")\n",
    "print(result12)"
   ]
  },
  {
   "cell_type": "code",
   "execution_count": 43,
   "metadata": {},
   "outputs": [
    {
     "name": "stdout",
     "output_type": "stream",
     "text": [
      "Matriks awal:\n",
      "[[ 1.   2.   0.   0.   3.4  2.  -1.  -3.2]\n",
      " [ 0.   1.   0.   0.   0.6  0.5  0.  -0.8]\n",
      " [ 0.   0.   1.   0.  -2.  -1.   0.5  2. ]\n",
      " [-0.  -0.  -0.   1.   0.4 -0.  -0.  -0.2]]\n",
      "\n",
      "Matriks setelah RowScale:\n",
      "[[ 1.   0.   0.   0.   2.2  1.  -1.  -1.6]\n",
      " [ 0.   1.   0.   0.   0.6  0.5  0.  -0.8]\n",
      " [ 0.   0.   1.   0.  -2.  -1.   0.5  2. ]\n",
      " [-0.  -0.  -0.   1.   0.4 -0.  -0.  -0.2]]\n"
     ]
    }
   ],
   "source": [
    "k = 1\n",
    "l = 0\n",
    "scale = -2\n",
    "\n",
    "result13 = RowAdd(result12, k, l, scale)\n",
    "print(\"Matriks awal:\")\n",
    "print(result12)\n",
    "print(\"\\nMatriks setelah RowScale:\")\n",
    "print(result13)"
   ]
  }
 ],
 "metadata": {
  "kernelspec": {
   "display_name": "Python 3",
   "language": "python",
   "name": "python3"
  },
  "language_info": {
   "codemirror_mode": {
    "name": "ipython",
    "version": 3
   },
   "file_extension": ".py",
   "mimetype": "text/x-python",
   "name": "python",
   "nbconvert_exporter": "python",
   "pygments_lexer": "ipython3",
   "version": "3.10.13"
  }
 },
 "nbformat": 4,
 "nbformat_minor": 2
}

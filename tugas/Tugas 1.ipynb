{
 "cells": [
  {
   "cell_type": "markdown",
   "metadata": {},
   "source": [
    "# Eliminasi Gaus\n",
    "Eliminasi Gauss adalah algoritma yang digunakan untuk menyelesaikan sistem persamaan linear. Algoritma ini terdiri dari serangkaian operasi yang dilakukan pada matriks koefisien dari sistem persamaan tersebut.\n",
    "\n",
    "Ada tiga jenis operasi baris dasar yang dapat dilakukan pada baris matriks tersebut:\n",
    "\n",
    "1. Menukar posisi dua baris.\n",
    "\n",
    "2. Mengalikan suatu baris dengan skalar bukan nol .\n",
    "\n",
    "3. Menambahkan suatu baris dengan suatu kelipatan dari baris yang lain.\n",
    "\n",
    "Operasi-operasi ini tidak mengubah kumpulan solusi. Oleh karena itu, jika tujuan seseorang adalah untuk menyelesaikan sistem persamaan linear, penggunaan operasi baris ini dapat membuat masalah menjadi lebih mudah"
   ]
  },
  {
   "cell_type": "markdown",
   "metadata": {},
   "source": [
    "### Row Swap\n",
    "\n",
    "Row swap adalah operasi dasar pada matriks yang melibatkan pertukaran dua baris. Dalam operasi ini, dua baris pada matriks ditukar posisinya. Operasi row swap sering digunakan dalam proses Eliminasi Gauss, \n",
    "\n",
    "Semisal Kita Memiliki Matrix berikut"
   ]
  },
  {
   "cell_type": "code",
   "execution_count": 2,
   "metadata": {},
   "outputs": [
    {
     "name": "stdout",
     "output_type": "stream",
     "text": [
      "[[ 8  9  1 19]\n",
      " [ 1  2  3  9]\n",
      " [ 2  1  1  5]]\n"
     ]
    }
   ],
   "source": [
    "import numpy as np\n",
    "A=np.array([[8,9,1,19],\n",
    "            [1,2,3,9],\n",
    "            [2,1,1,5]])\n",
    "print(A)"
   ]
  },
  {
   "cell_type": "markdown",
   "metadata": {},
   "source": [
    "Dan kita ingin menukar baris pertama dengan baris kedua, maka setelah operasi row swap, matriks akan menjadi:"
   ]
  },
  {
   "cell_type": "code",
   "execution_count": 15,
   "metadata": {},
   "outputs": [
    {
     "name": "stdout",
     "output_type": "stream",
     "text": [
      "Matriks awal:\n",
      "[[ 8  9  1 19]\n",
      " [ 1  2  3  9]\n",
      " [ 2  1  1  5]]\n",
      "\n",
      "Matriks setelah RowSwap:\n",
      "[[ 1.  2.  3.  9.]\n",
      " [ 8.  9.  1. 19.]\n",
      " [ 2.  1.  1.  5.]]\n"
     ]
    }
   ],
   "source": [
    "def RowSwap(A,k,l):\n",
    "# =============================================================================\n",
    "#     A adalah sebuah NumPy array.  RowSwap akan menghasilkan duplicate dari \n",
    "#     array dengan baris k dan l di tukar\n",
    "# =============================================================================\n",
    "    m = A.shape[0]  # m is number of rows in A\n",
    "    n = A.shape[1]  # n is number of columns in A\n",
    "\n",
    "    B = np.copy(A).astype('float64')\n",
    "\n",
    "    for j in range(n):\n",
    "        temp = B[k][j]\n",
    "        B[k][j] = B[l][j]\n",
    "        B[l][j] = temp\n",
    "\n",
    "    return B\n",
    "\n",
    "RSW=np.array([[8,9,1,19],\n",
    "              [1,2,3,9],\n",
    "              [2,1,1,5]])\n",
    "\n",
    "k = 0\n",
    "l = 1\n",
    "\n",
    "# Memanggil fungsi RowSwap dan menampilkan outputnya\n",
    "result = RowSwap(RSW, k, 1)\n",
    "print(\"Matriks awal:\")\n",
    "print(RSW)\n",
    "print(\"\\nMatriks setelah RowSwap:\")\n",
    "print(result)\n"
   ]
  },
  {
   "cell_type": "markdown",
   "metadata": {},
   "source": [
    "### Row Scale\n",
    "\n",
    "Row scale adalah operasi dasar pada matriks yang melibatkan pengalihan (skalasi) satu baris dengan suatu skalar (bilangan konstan). Dalam operasi ini, setiap elemen pada baris tertentu dikalikan dengan skalar tersebut.\n",
    "\n",
    "Misalnya, jika kita memiliki matriks berikut:"
   ]
  },
  {
   "cell_type": "code",
   "execution_count": 11,
   "metadata": {},
   "outputs": [
    {
     "name": "stdout",
     "output_type": "stream",
     "text": [
      "[[6 9 1]\n",
      " [1 2 3]\n",
      " [2 6 4]]\n"
     ]
    }
   ],
   "source": [
    "RSC=np.array([[6,9,1],\n",
    "              [1,2,3],\n",
    "              [2,6,4]])\n",
    "print(A)"
   ]
  },
  {
   "cell_type": "markdown",
   "metadata": {},
   "source": [
    "Dan kita ingin mengalikan baris pertama dengan 2, maka setelah operasi row scale, matriks akan menjadi:"
   ]
  },
  {
   "cell_type": "code",
   "execution_count": 4,
   "metadata": {},
   "outputs": [
    {
     "name": "stdout",
     "output_type": "stream",
     "text": [
      "Matriks awal:\n",
      "[[6 9 1]\n",
      " [1 2 3]\n",
      " [2 6 4]]\n",
      "\n",
      "Matriks setelah RowScale:\n",
      "[[6. 9. 1.]\n",
      " [2. 4. 6.]\n",
      " [2. 6. 4.]]\n"
     ]
    }
   ],
   "source": [
    "\n",
    "def RowScale(A,k,scale):\n",
    "# =============================================================================\n",
    "#     RSC adalah sebuah NumPy array.  RowScale akan menghasilkan duplicate dari \n",
    "#     array dengan baris k di kali dengan skalar bukan 0\n",
    "# =============================================================================\n",
    "    m = A.shape[0]  # m is number of rows in A\n",
    "    n = A.shape[1]  # n is number of columns in A\n",
    "\n",
    "    B = np.copy(A).astype('float64')\n",
    "\n",
    "    for j in range(n):\n",
    "        B[k][j] *= scale\n",
    "\n",
    "    return B\n",
    "\n",
    "RSC=np.array([[6,9,1],\n",
    "              [1,2,3],\n",
    "              [2,6,4]])\n",
    "\n",
    "k = 1\n",
    "scale = 2\n",
    "\n",
    "# Memanggil fungsi RowScale dan menampilkan outputnya\n",
    "result = RowScale(RSC, k, scale)\n",
    "print(\"Matriks awal:\")\n",
    "print(RSC)\n",
    "print(\"\\nMatriks setelah RowScale:\")\n",
    "print(result)\n"
   ]
  },
  {
   "cell_type": "markdown",
   "metadata": {},
   "source": [
    "### Row Add\n",
    "\n",
    "Row add adalah operasi dasar pada matriks yang melibatkan penambahan hasil perkalian satu baris dengan suatu skalar (bilangan konstan) terhadap baris lainnya. Dalam operasi ini, setiap elemen pada suatu baris akan ditambahkan dengan hasil perkalian skalar tersebut terhadap elemen pada baris lain.\n",
    "\n",
    "Misalnya, jika kita memiliki matriks berikut:"
   ]
  },
  {
   "cell_type": "code",
   "execution_count": 18,
   "metadata": {},
   "outputs": [
    {
     "name": "stdout",
     "output_type": "stream",
     "text": [
      "[[ 8  9  1 19]\n",
      " [ 1  2  3  9]\n",
      " [ 2  1  1  5]]\n"
     ]
    }
   ],
   "source": [
    "RA=np.array([[8,9,1,20],\n",
    "             [1,2,13,9],\n",
    "             [2,11,3,5]])\n",
    "print(RA)"
   ]
  },
  {
   "cell_type": "markdown",
   "metadata": {},
   "source": [
    "Dan kita ingin menambahkan dua kali baris pertama ke baris kedua, maka setelah operasi row add, matriks akan menjadi:"
   ]
  },
  {
   "cell_type": "code",
   "execution_count": 19,
   "metadata": {},
   "outputs": [
    {
     "name": "stdout",
     "output_type": "stream",
     "text": [
      "Matriks awal:\n",
      "[[ 8  9  1 20]\n",
      " [ 1  2 13  9]\n",
      " [ 2 11  3  5]]\n",
      "\n",
      "Matriks setelah RowAdd:\n",
      "[[ 8.  9.  1. 20.]\n",
      " [17. 20. 15. 49.]\n",
      " [ 2. 11.  3.  5.]]\n"
     ]
    }
   ],
   "source": [
    "def RowAdd(A,k,l,scale):\n",
    "# =============================================================================\n",
    "#     A adalah sebuah NumPy array.  RowAddp akan menghasilkan duplicate dari \n",
    "#     array dengan baris k akan di kali dengan scalar bukan 0. lalu baris nilai\n",
    "#     baris l akan di tambah dengan nilai baris k yang sudah dikalikan  \n",
    "# =============================================================================\n",
    "    m = A.shape[0]  # m is number of rows in A\n",
    "    n = A.shape[1]  # n is number of columns in A\n",
    "\n",
    "    B = np.copy(A).astype('float64')\n",
    "\n",
    "    for j in range(n):\n",
    "        B[l][j] += B[k][j]*scale\n",
    "\n",
    "    return B\n",
    "\n",
    "RA=np.array([[8,9,1,20],\n",
    "             [1,2,13,9],\n",
    "             [2,11,3,5]])\n",
    "\n",
    "k = 0\n",
    "l = 1\n",
    "scale = 2\n",
    "\n",
    "# Memanggil fungsi RowAdd dan menampilkan outputnya\n",
    "result = RowAdd(RA, k, l, scale)\n",
    "print(\"Matriks awal:\")\n",
    "print(RA)\n",
    "print(\"\\nMatriks setelah RowAdd:\")\n",
    "print(result)"
   ]
  },
  {
   "cell_type": "markdown",
   "metadata": {},
   "source": [
    "Hasil Dari Sistem Persamaan Berikut :\n",
    "\n",
    "$$\n",
    "    8x_1 + 9x_2 + x_3 = 19\\\\\n",
    "    x_1  + 2x_2 + 3x_3 = 9\\\\\n",
    "    2x_1 + x_2  + x_3 = 5\n",
    "$$"
   ]
  },
  {
   "cell_type": "markdown",
   "metadata": {},
   "source": [
    "Hasil Setelah di bulatkan : \n",
    "\n",
    "$$\n",
    "    x_1 + 2x_2 + 3x_3 = 9\\\\\n",
    "    x_2 + 3x_3 = 8\\\\\n",
    "    x_3 = 2\n",
    "$$\n"
   ]
  }
 ],
 "metadata": {
  "kernelspec": {
   "display_name": "Python 3",
   "language": "python",
   "name": "python3"
  },
  "language_info": {
   "codemirror_mode": {
    "name": "ipython",
    "version": 3
   },
   "file_extension": ".py",
   "mimetype": "text/x-python",
   "name": "python",
   "nbconvert_exporter": "python",
   "pygments_lexer": "ipython3",
   "version": "3.10.13"
  }
 },
 "nbformat": 4,
 "nbformat_minor": 2
}

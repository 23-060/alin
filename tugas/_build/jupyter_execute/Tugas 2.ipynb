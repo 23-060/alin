{
 "cells": [
  {
   "cell_type": "markdown",
   "metadata": {},
   "source": [
    "# Aljabar Matrix\n",
    "Aljabar matriks adalah cabang aljabar yang mempelajari matriks, yaitu susunan bilangan-bilangan (elemen) dalam baris dan kolom. Matriks dapat digunakan untuk merepresentasikan sistem persamaan linear, transformasi linier, dan berbagai konsep matematika lainnya.\n",
    "\n",
    "Berikut adalah contoh dari Aljabar Matriks :"
   ]
  },
  {
   "cell_type": "code",
   "execution_count": 1,
   "metadata": {},
   "outputs": [
    {
     "name": "stdout",
     "output_type": "stream",
     "text": [
      "[[6 3 0]\n",
      " [5 4 6]\n",
      " [5 1 8]]\n"
     ]
    }
   ],
   "source": [
    "import numpy as np\n",
    "\n",
    "A = np.random.randint(10,size=(3,3))\n",
    "print(A)"
   ]
  },
  {
   "cell_type": "markdown",
   "metadata": {},
   "source": [
    "## Menghitung matrix menggunakan Program"
   ]
  },
  {
   "cell_type": "markdown",
   "metadata": {},
   "source": [
    "### Cara menentukan Matrix Secara Manual Menggunakan Program python\n",
    "\n",
    "1. kita memanggil library numpy menggunakan syntax\n",
    "[import numpy]\n",
    "import gunanya untuk kita memanggil file lain dalam satu modul,\n",
    "numpy adalah sebuah library yang bisa di panggil \n",
    "\n",
    "2. kita membuat matrix secara manual menggunakan syntax\n",
    "[ A = numpy.array([[3,0,4],[-1,-2,-1]]) ]\n",
    "kita membuat variable \"A\", dengan isi numpy.array\n",
    "numpy adalah library yang sudah kita panggil tadi, dan array kegunaannya untuk memudahkan operasi komputasi tipe data numerik seperti penjumlahan, pengurangan, perkalian, pangkat, dan operasi lainnya yang bisa diterapkan pada vektor atau matrix\n",
    "dan kita memberi angka untuk kolom dan baris pada matrix"
   ]
  },
  {
   "cell_type": "code",
   "execution_count": 2,
   "metadata": {},
   "outputs": [
    {
     "name": "stdout",
     "output_type": "stream",
     "text": [
      "[[ 3  0  4]\n",
      " [-1 -2 -1]]\n"
     ]
    }
   ],
   "source": [
    "import numpy\n",
    "\n",
    "A = numpy.array([[3,0,4],[-1,-2,-1]])\n",
    "print(A)"
   ]
  },
  {
   "cell_type": "markdown",
   "metadata": {},
   "source": [
    "### Cara Menentukan Matrix Secara Random menggunakan progam python\n",
    "1. kita memanggil numpy dan random menggunakan syntax \n",
    "[import numpy] & [import Random]\n",
    "import gunanya untuk kita memanggil file lain dalam satu modul,\n",
    "numpy dan random adalah sebuah library yang bisa di panggil \n",
    "\n",
    "2. kita membuat matrix menggunakan syntax\n",
    "[ \"A = numpy.random.randint(10, size=(3,3))\" ]\n",
    "Kita membuat Variabel \"A\", dengan isi \"numpy.random.ranint(10, size=(3,0)),\n",
    "disini kegunaan dari randint sendiri adalah untuk mengacak angka, dan 10 adalah batas dari acak angka randint, \n",
    "size=(3,3) adalah ukuran kolom baris sebuah matrix"
   ]
  },
  {
   "cell_type": "code",
   "execution_count": 3,
   "metadata": {},
   "outputs": [
    {
     "name": "stdout",
     "output_type": "stream",
     "text": [
      "[[2 9 4]\n",
      " [8 7 0]\n",
      " [5 4 0]]\n"
     ]
    }
   ],
   "source": [
    "import numpy as np\n",
    "import random\n",
    "\n",
    "A = np.random.randint(10,size=(3,3))\n",
    "print(A)"
   ]
  },
  {
   "cell_type": "markdown",
   "metadata": {},
   "source": [
    "### Cara Mengubah matrix menjadi matrix transpose menggunakan program python\n",
    "1. Menentukan Matrix mana yang ingin di transpose, dan beri syntax\n",
    "[A.transpose()]\n",
    "Syntax \"transpose()\" digunakan untuk menghasilkan transpos dari matriks A. Transpos suatu matriks adalah operasi yang mengubah baris matriks menjadi kolom dan sebaliknya. Dengan kata lain, elemen pada baris ke-i dan kolom ke-j dari matriks asli akan menjadi elemen pada baris ke-j dan kolom ke-i dalam matriks transpos."
   ]
  },
  {
   "cell_type": "code",
   "execution_count": 4,
   "metadata": {},
   "outputs": [
    {
     "name": "stdout",
     "output_type": "stream",
     "text": [
      "Matrix A\n",
      "[[4 2 0]\n",
      " [0 1 5]\n",
      " [7 7 7]]\n",
      "Matrix A yang sudah di transpose\n",
      "[[4 0 7]\n",
      " [2 1 7]\n",
      " [0 5 7]]\n"
     ]
    }
   ],
   "source": [
    "import numpy as np\n",
    "import random\n",
    "\n",
    "A = np.random.randint(10,size=(3,3))\n",
    "A_T = A.transpose()\n",
    "print(\"Matrix A\")\n",
    "print(A)\n",
    "print(\"Matrix A yang sudah di transpose\")\n",
    "print(A_T)"
   ]
  },
  {
   "cell_type": "markdown",
   "metadata": {},
   "source": [
    "### Cara Mengetahui Shape Matrix Menggunakan Program Python \n",
    "1. Menentukan variable matrix mana yang ingin di ketahui shape nya, dan tambahkan syntax\n",
    "[A.Shape]\n",
    "Shape digunakan untuk mendapatkan tuple yang menyatakan dimensi dari array/matriks A. Dalam konteks NumPy atau library lain yang mendukung atribut shape, A.shape memberikan informasi tentang jumlah baris dan kolom "
   ]
  },
  {
   "cell_type": "code",
   "execution_count": 5,
   "metadata": {},
   "outputs": [
    {
     "data": {
      "text/plain": [
       "(3, 3)"
      ]
     },
     "execution_count": 5,
     "metadata": {},
     "output_type": "execute_result"
    }
   ],
   "source": [
    "import numpy as np\n",
    "import random\n",
    "\n",
    "A = np.random.randint(10,size=(3,3))\n",
    "A.shape"
   ]
  },
  {
   "cell_type": "markdown",
   "metadata": {},
   "source": [
    "\n",
    "## TUGAS MATERI PERTEMUAN 3\n",
    "Mengalikan Matrix Menggunakan Python"
   ]
  },
  {
   "cell_type": "code",
   "execution_count": 6,
   "metadata": {},
   "outputs": [
    {
     "name": "stdout",
     "output_type": "stream",
     "text": [
      "Matrix A:\n",
      "[[5 3]\n",
      " [8 6]\n",
      " [1 1]]\n",
      "\n",
      "Matrix B:\n",
      "[[1 0 0]\n",
      " [1 0 4]]\n",
      "\n",
      "Hasil akhir perkalian matriks:\n",
      "[[ 8  0 12]\n",
      " [14  0 24]\n",
      " [ 2  0  4]]\n"
     ]
    }
   ],
   "source": [
    "import numpy as np\n",
    "\n",
    "A = np.random.randint(10, size=(3, 2))\n",
    "B = np.random.randint(10, size=(2, 3))\n",
    "\n",
    "\n",
    "\n",
    "Kumpulan_matrix = [A, B]\n",
    "\n",
    "hasil = Kumpulan_matrix[0]\n",
    "\n",
    "for matrix in Kumpulan_matrix[1:]:\n",
    "    hasil = np.dot(hasil, matrix)\n",
    "\n",
    "print(\"Matrix A:\")\n",
    "print(A)\n",
    "print(\"\\nMatrix B:\")\n",
    "print(B)\n",
    "print(\"\\nHasil akhir perkalian matriks:\")\n",
    "print(hasil)\n"
   ]
  }
 ],
 "metadata": {
  "kernelspec": {
   "display_name": "Python 3",
   "language": "python",
   "name": "python3"
  },
  "language_info": {
   "codemirror_mode": {
    "name": "ipython",
    "version": 3
   },
   "file_extension": ".py",
   "mimetype": "text/x-python",
   "name": "python",
   "nbconvert_exporter": "python",
   "pygments_lexer": "ipython3",
   "version": "3.10.13"
  }
 },
 "nbformat": 4,
 "nbformat_minor": 2
}
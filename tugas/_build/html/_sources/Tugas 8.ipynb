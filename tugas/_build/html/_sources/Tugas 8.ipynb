{
 "cells": [
  {
   "cell_type": "markdown",
   "metadata": {},
   "source": [
    "# Struktur Page dan Link\n",
    "\n",
    "![Page](../tugas/page.png)\n",
    "\n",
    "Page 1 -> Page 2 & Page 3 |\n",
    "Page 2 -> Page 3 |\n",
    "Page 3 -> Page 1\n"
   ]
  },
  {
   "cell_type": "markdown",
   "metadata": {},
   "source": [
    "# Representasi Matriks Adjacency\n",
    "\n",
    "Matriks Adjacency A =\n",
    "$$ \n",
    "\\begin{bmatrix}\n",
    "0 & 1 & 1\\\\\n",
    "0 & 0 & 1\\\\\n",
    "1 & 0 & 0\\\\\n",
    "\\end{bmatrix}\n",
    "$$\n"
   ]
  },
  {
   "cell_type": "markdown",
   "metadata": {},
   "source": [
    "\n",
    "### Normalisasi Matriks Adjacency\n",
    "Normalisasi dilakukan dengan membagi setiap elemen kolom dengan jumlah total elemen di kolom tersebut.\n",
    "\n",
    "$$ \n",
    "\\begin{bmatrix}\n",
    "0 & 0 & 1\\\\\n",
    "0.5 & 0 & 0\\\\\n",
    "0.5 & 1 & 0\\\\\n",
    "\\end{bmatrix}\n",
    "$$\n"
   ]
  },
  {
   "cell_type": "markdown",
   "metadata": {},
   "source": [
    "\n",
    "### Menambahkan Damping Factor\n",
    "Untuk menghindari dead ends (halaman tanpa outbound links) dan spider traps (loop di mana halaman hanya mengarah ke dirinya sendiri atau halaman lain di loop), kita menambahkan faktor peredam \n",
    "d (biasanya 0.85)\n",
    "\n",
    "$$\n",
    "G = d \\times M + \\frac{(1-d)}{n} \\times \\mathbf{1}\n",
    "$$\n",
    "\n",
    "Di mana:\n",
    "- d adalah faktor peredam (biasanya 0.85).\n",
    "- n adalah jumlah halaman\n",
    "- 1 adalah matriks yang elemen-elemennya semua bernilai 1/n.\n",
    "\n",
    "$$\n",
    "G = 0.85 \\times M + \\frac{0.15}{3} \\times \\begin{bmatrix}\n",
    "1 & 1 & 1 \\\\\n",
    "1 & 1 & 1 \\\\\n",
    "1 & 1 & 1 \\\\\n",
    "\\end{bmatrix}\n",
    "$$\n",
    "\n",
    "$$\n",
    "G = 0.85 \\times \\begin{bmatrix}\n",
    "0 & 0 & 1 \\\\\n",
    "0.5 & 0 & 0 \\\\\n",
    "0.5 & 1 & 0 \\\\\n",
    "\\end{bmatrix} + 0.05 \\times \\begin{bmatrix}\n",
    "1 & 1 & 1 \\\\\n",
    "1 & 1 & 1 \\\\\n",
    "1 & 1 & 1 \\\\\n",
    "\\end{bmatrix}\n",
    "$$\n",
    "\n",
    "$$\n",
    "G = \\begin{bmatrix}\n",
    "0.05 & 0.05 & 0.9 \\\\\n",
    "0.475 & 0.05 & 0.05 \\\\\n",
    "0.475 & 0.9 & 0.05 \\\\\n",
    "\\end{bmatrix}\n",
    "$$\n"
   ]
  },
  {
   "cell_type": "markdown",
   "metadata": {},
   "source": [
    "\n",
    "### Menghitung PageRank\n",
    "Nilai Awal Setiap Halaman : \n",
    "$$\n",
    "PR = \\begin{bmatrix}\n",
    "\\frac{1}{n} \\\\\n",
    "\\frac{1}{n} \\\\\n",
    "\\frac{1}{n} \\\\\n",
    "\\end{bmatrix}\n",
    "= \\begin{bmatrix}\n",
    "0.333 \\\\\n",
    "0.333 \\\\\n",
    "0.333 \\\\\n",
    "\\end{bmatrix}\n",
    "$$\n"
   ]
  },
  {
   "cell_type": "markdown",
   "metadata": {},
   "source": [
    "\n",
    "### Langkah Iteratif\n",
    "$$\n",
    "PR_{\\text{baru}} = G \\times PR\n",
    "$$\n"
   ]
  },
  {
   "cell_type": "markdown",
   "metadata": {},
   "source": [
    "\n",
    "## Implementasi Pada Phython\n"
   ]
  },
  {
   "cell_type": "code",
   "execution_count": 12,
   "metadata": {},
   "outputs": [
    {
     "name": "stdout",
     "output_type": "stream",
     "text": [
      "[('Page 1', 0.3973997021243512), ('Page 3', 0.38778974680569855), ('Page 2', 0.21481055106995048)]\n"
     ]
    }
   ],
   "source": [
    "import numpy as np\n",
    "\n",
    "A = np.array([\n",
    "    [0, 1, 1],\n",
    "    [0, 0, 1],\n",
    "    [1, 0, 0]\n",
    "])\n",
    "\n",
    "\n",
    "M = A / np.sum(A, axis=0)\n",
    "\n",
    "n = A.shape[0]\n",
    "d = 0.85\n",
    "G = d * M + (1 - d) / n\n",
    "\n",
    "\n",
    "PR = np.ones(n) / n\n",
    "tol = 1e-6\n",
    "delta = 1\n",
    "while delta > tol:\n",
    "    PR_new = G @ PR\n",
    "    delta = np.linalg.norm(PR_new - PR, 1)\n",
    "    PR = PR_new\n",
    "\n",
    "\n",
    "sorted = np.argsort(PR)[::-1]\n",
    "sorted_PR = PR[sorted]\n",
    "\n",
    "\n",
    "pages = [\"Page 1\", \"Page 2\", \"Page 3\"]\n",
    "sorted_pages = [pages[i] for i in sorted]\n",
    "\n",
    "result = list(zip(sorted_pages, sorted_PR))\n",
    "print(result)\n"
   ]
  }
 ],
 "metadata": {
  "kernelspec": {
   "display_name": "Python 3",
   "language": "python",
   "name": "python3"
  },
  "language_info": {
   "codemirror_mode": {
    "name": "ipython",
    "version": 3
   },
   "file_extension": ".py",
   "mimetype": "text/x-python",
   "name": "python",
   "nbconvert_exporter": "python",
   "pygments_lexer": "ipython3",
   "version": "3.10.13"
  }
 },
 "nbformat": 4,
 "nbformat_minor": 2
}

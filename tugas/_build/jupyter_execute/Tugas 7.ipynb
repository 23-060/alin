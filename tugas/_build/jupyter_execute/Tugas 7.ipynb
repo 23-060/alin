{
 "cells": [
  {
   "cell_type": "markdown",
   "metadata": {},
   "source": [
    "# Aplikasi Aljabar Linier\n",
    "### Definisi \n",
    "Aljabar linier adalah cabang matematika yang mempelajari vektor, ruang vektor (juga disebut ruang linier), transformasi linier, dan sistem persamaan linier. Aljabar linier sangat penting dalam berbagai aplikasi ilmu pengetahuan, teknik, dan teknologi, termasuk analisis data, grafik komputer, pemodelan matematika, dan banyak lagi."
   ]
  },
  {
   "cell_type": "markdown",
   "metadata": {},
   "source": [
    "####  Cara Kerja Algoritma PageRank\n",
    "Algoritma PageRank adalah sebuah algoritma yang digunakan oleh mesin pencari Google untuk menentukan peringkat halaman web dalam hasil pencarian mereka. Algoritma ini dirancang oleh Larry Page dan Sergey Brin pada saat mereka masih di Stanford University. Ide utama dari PageRank adalah bahwa sebuah halaman web lebih penting jika banyak halaman web lain yang memiliki peringkat tinggi juga menautkannya.\n",
    "\n",
    "Secara matematis, PageRank dapat dilihat sebagai vektor yang merepresentasikan kemungkinan pengunjung acak mengunjungi setiap halaman web pada waktu tertentu. Algoritma ini bekerja dengan menghitung vektor eigen dari matriks yang merepresentasikan tautan antar halaman web.\n",
    "\n",
    "Berikut ini adalah langkah-langkah kerja algoritma PageRank:\n",
    "\n",
    "- Buatlah matriks tautan, di mana setiap elemen menunjukkan hubungan tautan dari satu halaman ke halaman lain.\n",
    "- Mulai dengan vektor PageRank awal yang berisi nilai yang sama untuk setiap halaman.\n",
    "- Kalikan matriks tautan dengan vektor PageRank untuk mendapatkan vektor baru.\n",
    "- Ulangi langkah 3 sampai nilai PageRank konvergen (perubahan antar iterasi kurang dari ambang batas tertentu)."
   ]
  },
  {
   "cell_type": "markdown",
   "metadata": {},
   "source": [
    "### Penerapan Komputasi Menggunakan Python"
   ]
  },
  {
   "cell_type": "code",
   "execution_count": 1,
   "metadata": {},
   "outputs": [
    {
     "name": "stdout",
     "output_type": "stream",
     "text": [
      "Hasil konvergen:\n",
      "[0.11150739 0.293549   0.14974089 0.11342783 0.33177488]\n",
      "\n",
      "Jumlah iterasi: 7\n",
      "\n",
      "Nilai PageRank yang diurutkan:\n",
      "Halaman 0: 0.3317748818777625\n",
      "Halaman 1: 0.29354900167657366\n",
      "Halaman 2: 0.149740893156531\n",
      "Halaman 3: 0.11342783112330437\n",
      "Halaman 4: 0.11150739216582836\n"
     ]
    }
   ],
   "source": [
    "import numpy as np\n",
    "\n",
    "def perkalianMatrix(A, V, conv=0.01, itr=0):\n",
    "    # Mengalikan matriks A dengan vektor V\n",
    "    A_ = A.dot(V)\n",
    "    \n",
    "    # Memeriksa apakah konvergen (perubahan kurang dari ambang batas)\n",
    "    if np.linalg.norm(A_ - V) < conv:\n",
    "        return A_, itr\n",
    "    else:\n",
    "        # Jika belum konvergen, lanjutkan iterasi dengan matriks baru\n",
    "        return perkalianMatrix(A, A_, conv, itr+1)\n",
    "\n",
    "# Matriks A (matriks tautan)\n",
    "A = np.array([[0, 0, 0, 0, 1/3],\n",
    "              [0, 0, 1/2, 1, 1/3],\n",
    "              [1/3, 0, 0, 0, 1/3],\n",
    "              [1/3, 0, 1/2, 0, 0],\n",
    "              [1/3, 1, 0, 0, 0]])\n",
    "\n",
    "# Vektor PageRank awal (semua halaman memiliki nilai awal 0.2)\n",
    "V = np.array([0.2, 0.2, 0.2, 0.2, 0.2])\n",
    "\n",
    "# Hitung PageRank\n",
    "hasil, iterasi = perkalianMatrix(A, V)\n",
    "\n",
    "# Tampilkan hasil\n",
    "print(\"Hasil konvergen:\")\n",
    "print(hasil)\n",
    "print()\n",
    "print(\"Jumlah iterasi:\", iterasi)\n",
    "print()\n",
    "\n",
    "# Urutkan nilai PageRank\n",
    "hasil_terurut = sorted(hasil, reverse=True)\n",
    "print(\"Nilai PageRank yang diurutkan:\")\n",
    "for i, pr in enumerate(hasil_terurut):\n",
    "    print(f\"Halaman {i}: {pr:}\")\n"
   ]
  },
  {
   "cell_type": "markdown",
   "metadata": {},
   "source": [
    "#### Penjelasan Code\n",
    "Program Python di atas merupakan implementasi sederhana dari algoritma PageRank menggunakan operasi matriks. Berikut adalah penjelasan mendetail tentang setiap bagian dari program tersebut:\n",
    "\n",
    "#####  Import Library"
   ]
  },
  {
   "cell_type": "code",
   "execution_count": 2,
   "metadata": {},
   "outputs": [],
   "source": [
    "import numpy as np"
   ]
  },
  {
   "cell_type": "markdown",
   "metadata": {},
   "source": [
    "Program ini menggunakan numpy, sebuah library Python yang sangat efisien untuk operasi numerik dan manipulasi array/matriks.\n",
    "##### Definisi Fungsi perkalianMatrix"
   ]
  },
  {
   "cell_type": "code",
   "execution_count": 3,
   "metadata": {},
   "outputs": [],
   "source": [
    "def perkalianMatrix(A, V, conv=0.01, itr=0):\n",
    "    # Mengalikan matriks A dengan vektor V\n",
    "    A_ = A.dot(V)\n",
    "    \n",
    "    # Memeriksa apakah konvergen (perubahan kurang dari ambang batas)\n",
    "    if np.linalg.norm(A_ - V) < conv:\n",
    "        return A_, itr\n",
    "    else:\n",
    "        # Jika belum konvergen, lanjutkan iterasi dengan matriks baru\n",
    "        return perkalianMatrix(A, A_, conv, itr+1)"
   ]
  },
  {
   "cell_type": "markdown",
   "metadata": {},
   "source": [
    "Fungsi perkalianMatrix bertujuan untuk mengalikan matriks A dengan vektor V hingga hasilnya konvergen (berhenti berubah signifikan). Penjelasan setiap langkah dalam fungsi:\n",
    "\n",
    "- A_ = A.dot(V): Mengalikan matriks A dengan vektor V menggunakan operasi dot product.\n",
    "- np.linalg.norm(A_ - V) < conv: Mengecek apakah perubahan antara A_ dan V kurang dari conv (batas konvergensi). np.linalg.norm - menghitung norma (panjang) dari vektor.\n",
    "- return A_, itr: Jika sudah konvergen, kembalikan hasil A_ dan jumlah iterasi.\n",
    "- return perkalianMatrix(A, A_, conv, itr+1): Jika belum konvergen, panggil kembali fungsi dengan vektor hasil baru A_ dan menambah iterasi.\n",
    "\n",
    "##### Matriks A dan Vektor V"
   ]
  },
  {
   "cell_type": "code",
   "execution_count": 4,
   "metadata": {},
   "outputs": [],
   "source": [
    "A = np.array([[0, 0, 0, 0, 1/3],\n",
    "              [0, 0, 1/2, 1, 1/3],\n",
    "              [1/3, 0, 0, 0, 1/3],\n",
    "              [1/3, 0, 1/2, 0, 0],\n",
    "              [1/3, 1, 0, 0, 0]])\n",
    "\n",
    "V = np.array([0.2, 0.2, 0.2, 0.2, 0.2])"
   ]
  },
  {
   "cell_type": "markdown",
   "metadata": {},
   "source": [
    "- Matriks A mewakili hubungan tautan antar halaman web. Setiap elemen dalam matriks menunjukkan proporsi tautan dari satu halaman ke halaman lainnya.\n",
    "- Vektor V adalah vektor PageRank awal, di mana setiap halaman dimulai dengan nilai yang sama (0.2).\n",
    "\n",
    "##### Menghitung PageRank"
   ]
  },
  {
   "cell_type": "code",
   "execution_count": 5,
   "metadata": {},
   "outputs": [],
   "source": [
    "hasil, iterasi = perkalianMatrix(A, V)"
   ]
  },
  {
   "cell_type": "markdown",
   "metadata": {},
   "source": [
    "Panggil fungsi perkalianMatrix untuk menghitung PageRank hingga konvergen, mengembalikan hasil akhir hasil dan jumlah iterasi iterasi yang diperlukan untuk mencapai konvergensi.\n",
    "\n",
    "##### Menampilkan Hasil"
   ]
  },
  {
   "cell_type": "code",
   "execution_count": 6,
   "metadata": {},
   "outputs": [
    {
     "name": "stdout",
     "output_type": "stream",
     "text": [
      "Hasil konvergen:\n",
      "[0.11150739 0.293549   0.14974089 0.11342783 0.33177488]\n",
      "\n",
      "Jumlah iterasi: 7\n",
      "\n",
      "Nilai PageRank yang diurutkan:\n",
      "Halaman 0: 0.3317748818777625\n",
      "Halaman 1: 0.29354900167657366\n",
      "Halaman 2: 0.149740893156531\n",
      "Halaman 3: 0.11342783112330437\n",
      "Halaman 4: 0.11150739216582836\n"
     ]
    }
   ],
   "source": [
    "print(\"Hasil konvergen:\")\n",
    "print(hasil)\n",
    "print()\n",
    "print(\"Jumlah iterasi:\", iterasi)\n",
    "print()\n",
    "\n",
    "# Urutkan nilai PageRank\n",
    "hasil_terurut = sorted(hasil, reverse=True)\n",
    "print(\"Nilai PageRank yang diurutkan:\")\n",
    "for i, pr in enumerate(hasil_terurut):\n",
    "    print(f\"Halaman {i}: {pr:}\")"
   ]
  },
  {
   "cell_type": "markdown",
   "metadata": {},
   "source": [
    "- Cetak hasil akhir PageRank setelah konvergen.\n",
    "- Cetak jumlah iterasi yang diperlukan untuk mencapai konvergensi.\n",
    "- Urutkan nilai PageRank dari yang tertinggi ke terendah dan cetak hasil yang sudah diurutkan."
   ]
  },
  {
   "cell_type": "markdown",
   "metadata": {},
   "source": [
    "### Kesimpulan \n",
    "Program ini menggunakan pendekatan iteratif untuk menghitung nilai PageRank dari sekumpulan halaman web berdasarkan matriks tautan antar halaman. Implementasi ini menunjukkan bagaimana menggunakan operasi matriks dan rekursi untuk mencapai konvergensi dalam perhitungan PageRank."
   ]
  }
 ],
 "metadata": {
  "kernelspec": {
   "display_name": "Python 3",
   "language": "python",
   "name": "python3"
  },
  "language_info": {
   "codemirror_mode": {
    "name": "ipython",
    "version": 3
   },
   "file_extension": ".py",
   "mimetype": "text/x-python",
   "name": "python",
   "nbconvert_exporter": "python",
   "pygments_lexer": "ipython3",
   "version": "3.10.13"
  }
 },
 "nbformat": 4,
 "nbformat_minor": 2
}
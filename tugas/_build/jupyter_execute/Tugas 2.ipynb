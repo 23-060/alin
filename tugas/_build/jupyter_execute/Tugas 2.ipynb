{
 "cells": [
  {
   "cell_type": "markdown",
   "metadata": {},
   "source": [
    "# Materi & Tugas Pertemuan 3\n",
    "## Menghitung matrix menggunakan Program\n",
    "### Cara Menentukan Matrix Secara Random menggunakan progam python\n",
    "1. kita memanggil numpy dan random menggunakan syntax \n",
    "[import numpy] & [import Random]\n",
    "import gunanya untuk kita memanggil file lain dalam satu modul,\n",
    "numpy dan random adalah sebuah library yang bisa di panggil \n",
    "\n",
    "2. kita membuat matrix menggunakan syntax\n",
    "[ \"A = numpy.random.randint(10, size=(3,3))\" ]\n",
    "Kita membuat Variabel \"A\", dengan isi \"numpy.random.ranint(10, size=(3,0)),\n",
    "disini kegunaan dari randint sendiri adalah untuk mengacak angka, dan 10 adalah batas dari acak angka randint, \n",
    "size=(3,3) adalah ukuran kolom baris sebuah matrix\n",
    "\n",
    "### Cara menentukan Matrix Secara Manual Menggunakan Program python\n",
    "\n",
    "1. kita memanggil library numpy menggunakan syntax\n",
    "[import numpy]\n",
    "import gunanya untuk kita memanggil file lain dalam satu modul,\n",
    "numpy adalah sebuah library yang bisa di panggil \n",
    "\n",
    "2. kita membuat matrix secara manual menggunakan syntax\n",
    "[ A = numpy.array([[3,0,4],[-1,-2,-1]]) ]\n",
    "kita membuat variable \"A\", dengan isi numpy.array\n",
    "numpy adalah library yang sudah kita panggil tadi, dan array kegunaannya untuk memudahkan operasi komputasi tipe data numerik seperti penjumlahan, pengurangan, perkalian, pangkat, dan operasi lainnya yang bisa diterapkan pada vektor atau matrix\n",
    "dan kita memberi angka untuk kolom dan baris pada matrix\n",
    "\n",
    "### Cara Mengubah matrix menjadi matrix transpose menggunakan program python\n",
    "1. Menentukan Matrix mana yang ingin di transpose, dan beri syntax\n",
    "[A.transpose()]\n",
    "Syntax \"transpose()\" digunakan untuk menghasilkan transpos dari matriks A. Transpos suatu matriks adalah operasi yang mengubah baris matriks menjadi kolom dan sebaliknya. Dengan kata lain, elemen pada baris ke-i dan kolom ke-j dari matriks asli akan menjadi elemen pada baris ke-j dan kolom ke-i dalam matriks transpos.\n",
    "\n",
    "### Cara Mengetahui Shape Matrix Menggunakan Program Python \n",
    "1. Menentukan variable matrix mana yang ingin di ketahui shape nya, dan tambahkan syntax\n",
    "[A.Shape]\n",
    "Shape digunakan untuk mendapatkan tuple yang menyatakan dimensi dari array/matriks A. Dalam konteks NumPy atau library lain yang mendukung atribut shape, A.shape memberikan informasi tentang jumlah baris dan kolom \n",
    "\n",
    "## TUGAS MATERI PERTEMUAN 3\n",
    "Mengalikan Matrix Menggunakan Python\n",
    "\n",
    "import numpy as np\n",
    "import random\n",
    "\n",
    "A = np.random.randint(10, size=(3, 3))\n",
    "B = np.random.randint(10, size=(3, 3))\n",
    "C = np.random.randint(10, size=(3, 3))\n",
    "D = np.random.randint(10, size=(3, 3))\n",
    "\n",
    "Hasil_awal = np.dot(A, B)\n",
    "Hasil_awal = np.dot(Hasil_awal, C)\n",
    "Hasil_akhir = np.dot(Hasil_awal, D)\n",
    "\n",
    "print(\"Matrix A:\")\n",
    "print(A)\n",
    "print(\"\\nMatrix B:\")\n",
    "print(B)\n",
    "print(\"\\nMatrix C:\")\n",
    "print(C)\n",
    "print(\"\\nMatrix D:\")\n",
    "print(D)\n",
    "print(\"\\nHasil akhir perkalian matriks:\")\n",
    "print(Hasil_akhir)"
   ]
  },
  {
   "cell_type": "code",
   "execution_count": 1,
   "metadata": {},
   "outputs": [
    {
     "name": "stdout",
     "output_type": "stream",
     "text": [
      "Matrix A\n",
      "[[9 1 4]\n",
      " [7 4 7]\n",
      " [0 1 1]] \n",
      "\n",
      "Matrix B\n",
      "[[ 3  0  4]\n",
      " [-1 -2 -1]] \n",
      "\n",
      "Matrix C\n",
      "[[8 6]\n",
      " [2 9]\n",
      " [1 4]] \n",
      "\n",
      "Matrix D\n",
      "[[2]\n",
      " [6]] \n",
      "\n"
     ]
    }
   ],
   "source": [
    "# array ditentukan secara manual & Random\n",
    "import numpy as np\n",
    "import random\n",
    "\n",
    "A = np.random.randint(10,size=(3,3))\n",
    "B = np.array([[3,0,4],[-1,-2,-1]])\n",
    "C = np.random.randint(10,size=(3,2))\n",
    "D = np.array([[2],[6]])\n",
    "\n",
    "print(\"Matrix A\")\n",
    "print(A,\"\\n\")\n",
    "print(\"Matrix B\")\n",
    "print(B,\"\\n\")\n",
    "print(\"Matrix C\")\n",
    "print(C,\"\\n\")\n",
    "print(\"Matrix D\")\n",
    "print(D,\"\\n\")"
   ]
  },
  {
   "cell_type": "code",
   "execution_count": 2,
   "metadata": {},
   "outputs": [
    {
     "name": "stdout",
     "output_type": "stream",
     "text": [
      "[[54  6 24]\n",
      " [42 24 42]\n",
      " [ 0  6  6]] \n",
      "\n",
      "[[54  6 24]\n",
      " [42 24 42]\n",
      " [ 0  6  6]] \n",
      "\n"
     ]
    }
   ],
   "source": [
    "# operasi matrix\n",
    "\n",
    "# C dan d adalah konnstanta\n",
    "c = 2\n",
    "d = 4\n",
    "A1 = (c + d) * A\n",
    "print(A1,\"\\n\")\n",
    "A2 = (c*A)+(d*A)\n",
    "print(A2,\"\\n\")"
   ]
  },
  {
   "cell_type": "code",
   "execution_count": 3,
   "metadata": {},
   "outputs": [],
   "source": [
    "# Transpose matriks\n",
    "A_T = A.transpose()\n",
    "C_T = C.transpose()"
   ]
  },
  {
   "cell_type": "code",
   "execution_count": 4,
   "metadata": {},
   "outputs": [],
   "source": [
    "# Lakukan perkalian matriks\n",
    "TRANS = np.dot(C, C_T)"
   ]
  },
  {
   "cell_type": "code",
   "execution_count": 5,
   "metadata": {},
   "outputs": [
    {
     "data": {
      "text/plain": [
       "(3, 2)"
      ]
     },
     "execution_count": 5,
     "metadata": {},
     "output_type": "execute_result"
    }
   ],
   "source": [
    "#Mengetahui Shape pada Matrix\n",
    "C.shape"
   ]
  },
  {
   "cell_type": "code",
   "execution_count": 6,
   "metadata": {},
   "outputs": [
    {
     "name": "stdout",
     "output_type": "stream",
     "text": [
      "Matrix A:\n",
      "[[6 8 0]\n",
      " [2 8 7]\n",
      " [1 0 8]]\n",
      "\n",
      "Matrix B:\n",
      "[[4 0 7]\n",
      " [2 9 3]\n",
      " [6 5 5]]\n",
      "\n",
      "Matrix C:\n",
      "[[3 0 9]\n",
      " [3 3 6]\n",
      " [4 8 3]]\n",
      "\n",
      "Matrix D:\n",
      "[[8 0 2]\n",
      " [5 7 2]\n",
      " [3 9 8]]\n",
      "\n",
      "Hasil akhir perkalian matriks:\n",
      "[[11490 14118 10608]\n",
      " [15378 19430 15072]\n",
      " [ 8739 11113  8712]]\n"
     ]
    }
   ],
   "source": [
    "# TUGAS MENGALIKAN MATRIX MENGGUNAKAN PROGRAM PYTHON\n",
    "\n",
    "import numpy as np\n",
    "import random\n",
    "\n",
    "A = np.random.randint(10, size=(3, 3))\n",
    "B = np.random.randint(10, size=(3, 3))\n",
    "C = np.random.randint(10, size=(3, 3))\n",
    "D = np.random.randint(10, size=(3, 3))\n",
    "\n",
    "# Melakukan Pengalian Secara Bertahap\n",
    "Hasil_awal = np.dot(A, B)\n",
    "Hasil_awal = np.dot(Hasil_awal, C)\n",
    "Hasil_akhir = np.dot(Hasil_awal, D)\n",
    "\n",
    "print(\"Matrix A:\")\n",
    "print(A)\n",
    "print(\"\\nMatrix B:\")\n",
    "print(B)\n",
    "print(\"\\nMatrix C:\")\n",
    "print(C)\n",
    "print(\"\\nMatrix D:\")\n",
    "print(D)\n",
    "print(\"\\nHasil akhir perkalian matriks:\")\n",
    "print(Hasil_akhir)"
   ]
  }
 ],
 "metadata": {
  "kernelspec": {
   "display_name": "Python 3",
   "language": "python",
   "name": "python3"
  },
  "language_info": {
   "codemirror_mode": {
    "name": "ipython",
    "version": 3
   },
   "file_extension": ".py",
   "mimetype": "text/x-python",
   "name": "python",
   "nbconvert_exporter": "python",
   "pygments_lexer": "ipython3",
   "version": "3.10.13"
  }
 },
 "nbformat": 4,
 "nbformat_minor": 2
}